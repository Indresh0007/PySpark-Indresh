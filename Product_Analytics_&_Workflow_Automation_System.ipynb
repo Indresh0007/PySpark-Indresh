{
  "nbformat": 4,
  "nbformat_minor": 0,
  "metadata": {
    "colab": {
      "provenance": [],
      "authorship_tag": "ABX9TyOnb3jVHKiDUbaIRUcDdPNT",
      "include_colab_link": true
    },
    "kernelspec": {
      "name": "python3",
      "display_name": "Python 3"
    },
    "language_info": {
      "name": "python"
    }
  },
  "cells": [
    {
      "cell_type": "markdown",
      "metadata": {
        "id": "view-in-github",
        "colab_type": "text"
      },
      "source": [
        "<a href=\"https://colab.research.google.com/github/Indresh0007/PySpark-Indresh/blob/main/Product_Analytics_%26_Workflow_Automation_System.ipynb\" target=\"_parent\"><img src=\"https://colab.research.google.com/assets/colab-badge.svg\" alt=\"Open In Colab\"/></a>"
      ]
    },
    {
      "cell_type": "code",
      "execution_count": 1,
      "metadata": {
        "colab": {
          "base_uri": "https://localhost:8080/"
        },
        "id": "FS6J0obztLaN",
        "outputId": "071f004a-564a-461b-9db2-59d1866b5745"
      },
      "outputs": [
        {
          "output_type": "stream",
          "name": "stdout",
          "text": [
            "\r0% [Working]\r            \rGet:1 https://cloud.r-project.org/bin/linux/ubuntu jammy-cran40/ InRelease [3,632 B]\n",
            "Get:2 https://developer.download.nvidia.com/compute/cuda/repos/ubuntu2204/x86_64  InRelease [1,581 B]\n",
            "Get:3 http://security.ubuntu.com/ubuntu jammy-security InRelease [129 kB]\n",
            "Hit:4 http://archive.ubuntu.com/ubuntu jammy InRelease\n",
            "Get:5 http://archive.ubuntu.com/ubuntu jammy-updates InRelease [128 kB]\n",
            "Get:6 https://r2u.stat.illinois.edu/ubuntu jammy InRelease [6,555 B]\n",
            "Hit:7 https://ppa.launchpadcontent.net/deadsnakes/ppa/ubuntu jammy InRelease\n",
            "Get:8 http://archive.ubuntu.com/ubuntu jammy-backports InRelease [127 kB]\n",
            "Get:9 https://developer.download.nvidia.com/compute/cuda/repos/ubuntu2204/x86_64  Packages [1,891 kB]\n",
            "Hit:10 https://ppa.launchpadcontent.net/graphics-drivers/ppa/ubuntu jammy InRelease\n",
            "Hit:11 https://ppa.launchpadcontent.net/ubuntugis/ppa/ubuntu jammy InRelease\n",
            "Get:12 https://r2u.stat.illinois.edu/ubuntu jammy/main all Packages [9,161 kB]\n",
            "Get:13 http://archive.ubuntu.com/ubuntu jammy-updates/restricted amd64 Packages [5,290 kB]\n",
            "Get:14 http://archive.ubuntu.com/ubuntu jammy-updates/universe amd64 Packages [1,575 kB]\n",
            "Get:15 http://archive.ubuntu.com/ubuntu jammy-updates/main amd64 Packages [3,518 kB]\n",
            "Get:16 https://r2u.stat.illinois.edu/ubuntu jammy/main amd64 Packages [2,773 kB]\n",
            "Get:17 http://security.ubuntu.com/ubuntu jammy-security/restricted amd64 Packages [5,103 kB]\n",
            "Get:18 http://security.ubuntu.com/ubuntu jammy-security/main amd64 Packages [3,207 kB]\n",
            "Get:19 http://security.ubuntu.com/ubuntu jammy-security/universe amd64 Packages [1,270 kB]\n",
            "Fetched 34.2 MB in 8s (4,060 kB/s)\n",
            "Reading package lists... Done\n",
            "W: Skipping acquire of configured file 'main/source/Sources' as repository 'https://r2u.stat.illinois.edu/ubuntu jammy InRelease' does not seem to provide it (sources.list entry misspelt?)\n",
            "Selecting previously unselected package scala.\n",
            "(Reading database ... 126284 files and directories currently installed.)\n",
            "Preparing to unpack scala-2.12.10.deb ...\n",
            "Unpacking scala (2.12.10-400) ...\n",
            "Setting up scala (2.12.10-400) ...\n",
            "Creating system group: scala\n",
            "Creating system user: scala in scala with scala daemon-user and shell /bin/false\n",
            "Processing triggers for man-db (2.10.2-1) ...\n",
            "Collecting findspark\n",
            "  Downloading findspark-2.0.1-py2.py3-none-any.whl.metadata (352 bytes)\n",
            "Downloading findspark-2.0.1-py2.py3-none-any.whl (4.4 kB)\n",
            "Installing collected packages: findspark\n",
            "Successfully installed findspark-2.0.1\n"
          ]
        }
      ],
      "source": [
        "!apt-get update\n",
        "!apt-get install openjdk-11-jdk-headless -qq > /dev/null\n",
        "!wget -q https://downloads.lightbend.com/scala/2.12.10/scala-2.12.10.deb\n",
        "!dpkg -i scala-2.12.10.deb\n",
        "!wget -q https://archive.apache.org/dist/spark/spark-3.3.0/spark-3.3.0-bin-hadoop3.tgz\n",
        "!tar xf spark-3.3.0-bin-hadoop3.tgz\n",
        "!pip install findspark\n"
      ]
    },
    {
      "cell_type": "code",
      "source": [
        "import os\n",
        "os.environ[\"JAVA_HOME\"] = \"/usr/lib/jvm/java-11-openjdk-amd64\"\n",
        "os.environ[\"SPARK_HOME\"] = \"/content/spark-3.3.0-bin-hadoop3\"\n"
      ],
      "metadata": {
        "id": "vvZZb3b1tSB5"
      },
      "execution_count": 2,
      "outputs": []
    },
    {
      "cell_type": "code",
      "source": [
        "import findspark\n",
        "findspark.init()\n",
        "from pyspark.sql import SparkSession\n",
        "\n",
        "spark = SparkSession.builder \\\n",
        "    .appName(\"ClassicModels Analytics\") \\\n",
        "    .getOrCreate()\n",
        "\n",
        "print(\"Spark Version:\", spark.version)\n"
      ],
      "metadata": {
        "id": "hRMzoOfNuQQQ",
        "outputId": "aa75c603-01cf-4b31-e116-b8b4f4e9fe5c",
        "colab": {
          "base_uri": "https://localhost:8080/"
        }
      },
      "execution_count": 3,
      "outputs": [
        {
          "output_type": "stream",
          "name": "stdout",
          "text": [
            "Spark Version: 3.3.0\n"
          ]
        }
      ]
    },
    {
      "cell_type": "code",
      "source": [
        "from google.colab import files\n",
        "uploaded = files.upload()\n"
      ],
      "metadata": {
        "id": "QSJ8EQNQuSG4",
        "colab": {
          "base_uri": "https://localhost:8080/",
          "height": 316
        },
        "outputId": "668f1b5b-a88f-4296-dcec-a803b26845f9"
      },
      "execution_count": 7,
      "outputs": [
        {
          "output_type": "display_data",
          "data": {
            "text/plain": [
              "<IPython.core.display.HTML object>"
            ],
            "text/html": [
              "\n",
              "     <input type=\"file\" id=\"files-83fe3940-ab80-49fe-bd1c-e6bc41635a80\" name=\"files[]\" multiple disabled\n",
              "        style=\"border:none\" />\n",
              "     <output id=\"result-83fe3940-ab80-49fe-bd1c-e6bc41635a80\">\n",
              "      Upload widget is only available when the cell has been executed in the\n",
              "      current browser session. Please rerun this cell to enable.\n",
              "      </output>\n",
              "      <script>// Copyright 2017 Google LLC\n",
              "//\n",
              "// Licensed under the Apache License, Version 2.0 (the \"License\");\n",
              "// you may not use this file except in compliance with the License.\n",
              "// You may obtain a copy of the License at\n",
              "//\n",
              "//      http://www.apache.org/licenses/LICENSE-2.0\n",
              "//\n",
              "// Unless required by applicable law or agreed to in writing, software\n",
              "// distributed under the License is distributed on an \"AS IS\" BASIS,\n",
              "// WITHOUT WARRANTIES OR CONDITIONS OF ANY KIND, either express or implied.\n",
              "// See the License for the specific language governing permissions and\n",
              "// limitations under the License.\n",
              "\n",
              "/**\n",
              " * @fileoverview Helpers for google.colab Python module.\n",
              " */\n",
              "(function(scope) {\n",
              "function span(text, styleAttributes = {}) {\n",
              "  const element = document.createElement('span');\n",
              "  element.textContent = text;\n",
              "  for (const key of Object.keys(styleAttributes)) {\n",
              "    element.style[key] = styleAttributes[key];\n",
              "  }\n",
              "  return element;\n",
              "}\n",
              "\n",
              "// Max number of bytes which will be uploaded at a time.\n",
              "const MAX_PAYLOAD_SIZE = 100 * 1024;\n",
              "\n",
              "function _uploadFiles(inputId, outputId) {\n",
              "  const steps = uploadFilesStep(inputId, outputId);\n",
              "  const outputElement = document.getElementById(outputId);\n",
              "  // Cache steps on the outputElement to make it available for the next call\n",
              "  // to uploadFilesContinue from Python.\n",
              "  outputElement.steps = steps;\n",
              "\n",
              "  return _uploadFilesContinue(outputId);\n",
              "}\n",
              "\n",
              "// This is roughly an async generator (not supported in the browser yet),\n",
              "// where there are multiple asynchronous steps and the Python side is going\n",
              "// to poll for completion of each step.\n",
              "// This uses a Promise to block the python side on completion of each step,\n",
              "// then passes the result of the previous step as the input to the next step.\n",
              "function _uploadFilesContinue(outputId) {\n",
              "  const outputElement = document.getElementById(outputId);\n",
              "  const steps = outputElement.steps;\n",
              "\n",
              "  const next = steps.next(outputElement.lastPromiseValue);\n",
              "  return Promise.resolve(next.value.promise).then((value) => {\n",
              "    // Cache the last promise value to make it available to the next\n",
              "    // step of the generator.\n",
              "    outputElement.lastPromiseValue = value;\n",
              "    return next.value.response;\n",
              "  });\n",
              "}\n",
              "\n",
              "/**\n",
              " * Generator function which is called between each async step of the upload\n",
              " * process.\n",
              " * @param {string} inputId Element ID of the input file picker element.\n",
              " * @param {string} outputId Element ID of the output display.\n",
              " * @return {!Iterable<!Object>} Iterable of next steps.\n",
              " */\n",
              "function* uploadFilesStep(inputId, outputId) {\n",
              "  const inputElement = document.getElementById(inputId);\n",
              "  inputElement.disabled = false;\n",
              "\n",
              "  const outputElement = document.getElementById(outputId);\n",
              "  outputElement.innerHTML = '';\n",
              "\n",
              "  const pickedPromise = new Promise((resolve) => {\n",
              "    inputElement.addEventListener('change', (e) => {\n",
              "      resolve(e.target.files);\n",
              "    });\n",
              "  });\n",
              "\n",
              "  const cancel = document.createElement('button');\n",
              "  inputElement.parentElement.appendChild(cancel);\n",
              "  cancel.textContent = 'Cancel upload';\n",
              "  const cancelPromise = new Promise((resolve) => {\n",
              "    cancel.onclick = () => {\n",
              "      resolve(null);\n",
              "    };\n",
              "  });\n",
              "\n",
              "  // Wait for the user to pick the files.\n",
              "  const files = yield {\n",
              "    promise: Promise.race([pickedPromise, cancelPromise]),\n",
              "    response: {\n",
              "      action: 'starting',\n",
              "    }\n",
              "  };\n",
              "\n",
              "  cancel.remove();\n",
              "\n",
              "  // Disable the input element since further picks are not allowed.\n",
              "  inputElement.disabled = true;\n",
              "\n",
              "  if (!files) {\n",
              "    return {\n",
              "      response: {\n",
              "        action: 'complete',\n",
              "      }\n",
              "    };\n",
              "  }\n",
              "\n",
              "  for (const file of files) {\n",
              "    const li = document.createElement('li');\n",
              "    li.append(span(file.name, {fontWeight: 'bold'}));\n",
              "    li.append(span(\n",
              "        `(${file.type || 'n/a'}) - ${file.size} bytes, ` +\n",
              "        `last modified: ${\n",
              "            file.lastModifiedDate ? file.lastModifiedDate.toLocaleDateString() :\n",
              "                                    'n/a'} - `));\n",
              "    const percent = span('0% done');\n",
              "    li.appendChild(percent);\n",
              "\n",
              "    outputElement.appendChild(li);\n",
              "\n",
              "    const fileDataPromise = new Promise((resolve) => {\n",
              "      const reader = new FileReader();\n",
              "      reader.onload = (e) => {\n",
              "        resolve(e.target.result);\n",
              "      };\n",
              "      reader.readAsArrayBuffer(file);\n",
              "    });\n",
              "    // Wait for the data to be ready.\n",
              "    let fileData = yield {\n",
              "      promise: fileDataPromise,\n",
              "      response: {\n",
              "        action: 'continue',\n",
              "      }\n",
              "    };\n",
              "\n",
              "    // Use a chunked sending to avoid message size limits. See b/62115660.\n",
              "    let position = 0;\n",
              "    do {\n",
              "      const length = Math.min(fileData.byteLength - position, MAX_PAYLOAD_SIZE);\n",
              "      const chunk = new Uint8Array(fileData, position, length);\n",
              "      position += length;\n",
              "\n",
              "      const base64 = btoa(String.fromCharCode.apply(null, chunk));\n",
              "      yield {\n",
              "        response: {\n",
              "          action: 'append',\n",
              "          file: file.name,\n",
              "          data: base64,\n",
              "        },\n",
              "      };\n",
              "\n",
              "      let percentDone = fileData.byteLength === 0 ?\n",
              "          100 :\n",
              "          Math.round((position / fileData.byteLength) * 100);\n",
              "      percent.textContent = `${percentDone}% done`;\n",
              "\n",
              "    } while (position < fileData.byteLength);\n",
              "  }\n",
              "\n",
              "  // All done.\n",
              "  yield {\n",
              "    response: {\n",
              "      action: 'complete',\n",
              "    }\n",
              "  };\n",
              "}\n",
              "\n",
              "scope.google = scope.google || {};\n",
              "scope.google.colab = scope.google.colab || {};\n",
              "scope.google.colab._files = {\n",
              "  _uploadFiles,\n",
              "  _uploadFilesContinue,\n",
              "};\n",
              "})(self);\n",
              "</script> "
            ]
          },
          "metadata": {}
        },
        {
          "output_type": "stream",
          "name": "stdout",
          "text": [
            "Saving customers.csv to customers.csv\n",
            "Saving employees.csv to employees.csv\n",
            "Saving offices.csv to offices.csv\n",
            "Saving orderdetails.csv to orderdetails.csv\n",
            "Saving orders.csv to orders.csv\n",
            "Saving payments.csv to payments.csv\n",
            "Saving productlines.csv to productlines.csv\n",
            "Saving products.csv to products.csv\n"
          ]
        }
      ]
    },
    {
      "cell_type": "code",
      "source": [
        "products = spark.read.csv(\"products.csv\", header=True, inferSchema=True)\n",
        "customers = spark.read.csv(\"customers.csv\", header=True, inferSchema=True)\n",
        "orders = spark.read.csv(\"orders.csv\", header=True, inferSchema=True)\n",
        "orderdetails = spark.read.csv(\"orderdetails.csv\", header=True, inferSchema=True)\n",
        "payments = spark.read.csv(\"payments.csv\", header=True, inferSchema=True)\n",
        "productlines = spark.read.csv(\"productlines.csv\", header=True, inferSchema=True)\n",
        "offices = spark.read.csv(\"offices.csv\", header=True, inferSchema=True)\n",
        "employees = spark.read.csv(\"employees.csv\", header=True, inferSchema=True)\n"
      ],
      "metadata": {
        "id": "hKmSkMh6_xPj"
      },
      "execution_count": 8,
      "outputs": []
    },
    {
      "cell_type": "code",
      "source": [
        "products.printSchema()\n",
        "products.show(5)\n"
      ],
      "metadata": {
        "colab": {
          "base_uri": "https://localhost:8080/"
        },
        "id": "rgYI5w8AAnry",
        "outputId": "6d38a311-6802-47bc-fd9e-6e7c86154168"
      },
      "execution_count": 9,
      "outputs": [
        {
          "output_type": "stream",
          "name": "stdout",
          "text": [
            "root\n",
            " |-- productCode: string (nullable = true)\n",
            " |-- productName: string (nullable = true)\n",
            " |-- productLine: string (nullable = true)\n",
            " |-- productScale: string (nullable = true)\n",
            " |-- productVendor: string (nullable = true)\n",
            " |-- productDescription: string (nullable = true)\n",
            " |-- quantityInStock: string (nullable = true)\n",
            " |-- buyPrice: string (nullable = true)\n",
            " |-- MSRP: string (nullable = true)\n",
            "\n",
            "+-----------+--------------------+------------+------------+--------------------+--------------------+---------------+--------+------+\n",
            "|productCode|         productName| productLine|productScale|       productVendor|  productDescription|quantityInStock|buyPrice|  MSRP|\n",
            "+-----------+--------------------+------------+------------+--------------------+--------------------+---------------+--------+------+\n",
            "|   S10_1678|1969 Harley David...| Motorcycles|        1:10|     Min Lin Diecast|This replica feat...|           7933|   48.81|  95.7|\n",
            "|   S10_1949|1952 Alpine Renau...|Classic Cars|        1:10|Classic Metal Cre...|Turnable front wh...|           7305|   98.58| 214.3|\n",
            "|   S10_2016|1996 Moto Guzzi 1...| Motorcycles|        1:10|Highway 66 Mini C...|Official Moto Guz...|           6625|   68.99|118.94|\n",
            "|   S10_4698|2003 Harley-David...| Motorcycles|        1:10|   Red Start Diecast|Model features, o...|           5582|   91.02|193.66|\n",
            "|   S10_4757| 1972 Alfa Romeo GTA|Classic Cars|        1:10|Motor City Art Cl...|Features include:...|           3252|   85.68| 136.0|\n",
            "+-----------+--------------------+------------+------------+--------------------+--------------------+---------------+--------+------+\n",
            "only showing top 5 rows\n",
            "\n"
          ]
        }
      ]
    },
    {
      "cell_type": "code",
      "source": [
        "products.createOrReplaceTempView(\"products\")\n",
        "customers.createOrReplaceTempView(\"customers\")\n",
        "orders.createOrReplaceTempView(\"orders\")\n",
        "orderdetails.createOrReplaceTempView(\"orderdetails\")\n",
        "payments.createOrReplaceTempView(\"payments\")\n"
      ],
      "metadata": {
        "id": "FphWqUnxAvV7"
      },
      "execution_count": 10,
      "outputs": []
    },
    {
      "cell_type": "code",
      "source": [
        "spark.sql(\"\"\"\n",
        "SELECT productLine, COUNT(*) AS total_products\n",
        "FROM products\n",
        "GROUP BY productLine\n",
        "\"\"\").show()\n"
      ],
      "metadata": {
        "colab": {
          "base_uri": "https://localhost:8080/"
        },
        "id": "n4bIifflA0M2",
        "outputId": "ba1e3591-3487-4098-d80e-688fe783b3d8"
      },
      "execution_count": 11,
      "outputs": [
        {
          "output_type": "stream",
          "name": "stdout",
          "text": [
            "+----------------+--------------+\n",
            "|     productLine|total_products|\n",
            "+----------------+--------------+\n",
            "|     Motorcycles|            13|\n",
            "|    Vintage Cars|            24|\n",
            "|           Ships|             9|\n",
            "|Trucks and Buses|            11|\n",
            "|    Classic Cars|            38|\n",
            "|          Trains|             3|\n",
            "|          Planes|            12|\n",
            "+----------------+--------------+\n",
            "\n"
          ]
        }
      ]
    },
    {
      "cell_type": "code",
      "source": [
        "spark.sql(\"\"\"\n",
        "SELECT c.customerName, SUM(od.quantityOrdered * od.priceEach) AS total_value\n",
        "FROM customers c\n",
        "JOIN orders o ON c.customerNumber = o.customerNumber\n",
        "JOIN orderdetails od ON o.orderNumber = od.orderNumber\n",
        "GROUP BY c.customerName\n",
        "ORDER BY total_value DESC\n",
        "\"\"\").show()\n"
      ],
      "metadata": {
        "colab": {
          "base_uri": "https://localhost:8080/"
        },
        "id": "PaoNOWHlA2C8",
        "outputId": "25909229-9368-4e93-e526-48dcf0f05cf0"
      },
      "execution_count": 12,
      "outputs": [
        {
          "output_type": "stream",
          "name": "stdout",
          "text": [
            "+--------------------+------------------+\n",
            "|        customerName|       total_value|\n",
            "+--------------------+------------------+\n",
            "|Euro+ Shopping Ch...| 820689.5399999995|\n",
            "|Mini Gifts Distri...|         591827.34|\n",
            "|Australian Collec...|180585.06999999998|\n",
            "|  Muscle Machine Inc|177913.95000000007|\n",
            "|   La Rochelle Gifts|         158573.12|\n",
            "|Dragon Souveniers...|         156251.03|\n",
            "|Down Under Souven...|154622.08000000002|\n",
            "|   Land of Toys Inc.|         149085.15|\n",
            "|      AV Stores, Co.|148410.09000000003|\n",
            "|The Sharp Gifts W...|         143536.27|\n",
            "|Salzburg Collecta...|137480.07000000004|\n",
            "|   Kelly's Gift Shop|137460.78999999995|\n",
            "|Anna's Decoration...|         137034.22|\n",
            "|Souveniers And Th...|133907.12000000002|\n",
            "|Corporate Gift Id...|132340.77999999997|\n",
            "|Saveley & Henriot...|130305.34999999998|\n",
            "|Danish Wholesale ...|129085.12000000001|\n",
            "|       Rovelli Gifts|         127529.69|\n",
            "|  Reims Collectables|126983.18999999997|\n",
            "| L'ordine Souveniers|125505.56999999999|\n",
            "+--------------------+------------------+\n",
            "only showing top 20 rows\n",
            "\n"
          ]
        }
      ]
    },
    {
      "cell_type": "code",
      "source": [
        "spark.sql(\"\"\"\n",
        "SELECT productName, quantityInStock\n",
        "FROM products\n",
        "ORDER BY quantityInStock ASC\n",
        "LIMIT 5\n",
        "\"\"\").show()\n"
      ],
      "metadata": {
        "colab": {
          "base_uri": "https://localhost:8080/"
        },
        "id": "SnsPn1B2A4-W",
        "outputId": "404b46e7-55a9-49d7-8923-6309506b5e87"
      },
      "execution_count": 13,
      "outputs": [
        {
          "output_type": "stream",
          "name": "stdout",
          "text": [
            "+--------------------+--------------------+\n",
            "|         productName|     quantityInStock|\n",
            "+--------------------+--------------------+\n",
            "|   1957 Chevy Pickup|      Rubber wheels\"|\n",
            "|  1969 Corvair Monza|          hood opens|\n",
            "|  1970 Dodge Coronet| hood opens and r...|\n",
            "|The USS Constitut...|   sea sprite on bow|\n",
            "|1970 Chevy Chevel...|                1005|\n",
            "+--------------------+--------------------+\n",
            "\n"
          ]
        }
      ]
    },
    {
      "cell_type": "code",
      "source": [
        "spark.sql(\"\"\"\n",
        "SELECT customerNumber, SUM(amount) AS total_payment\n",
        "FROM payments\n",
        "GROUP BY customerNumber\n",
        "ORDER BY total_payment DESC\n",
        "LIMIT 5\n",
        "\"\"\").show()\n"
      ],
      "metadata": {
        "colab": {
          "base_uri": "https://localhost:8080/"
        },
        "id": "2UG6BaqtA7fM",
        "outputId": "101336c8-6801-4ba6-8003-2cdf38acb681"
      },
      "execution_count": 14,
      "outputs": [
        {
          "output_type": "stream",
          "name": "stdout",
          "text": [
            "+--------------+------------------+\n",
            "|customerNumber|     total_payment|\n",
            "+--------------+------------------+\n",
            "|           141| 715738.9800000001|\n",
            "|           124| 584188.2400000001|\n",
            "|           114|180585.06999999998|\n",
            "|           151|         177913.95|\n",
            "|           148|         156251.03|\n",
            "+--------------+------------------+\n",
            "\n"
          ]
        }
      ]
    },
    {
      "cell_type": "code",
      "source": [
        "spark.sql(\"\"\"\n",
        "SELECT DATE_FORMAT(orderDate, 'yyyy-MM') AS month, COUNT(*) AS total_orders\n",
        "FROM orders\n",
        "GROUP BY month\n",
        "ORDER BY month\n",
        "\"\"\").show()\n"
      ],
      "metadata": {
        "colab": {
          "base_uri": "https://localhost:8080/"
        },
        "id": "JRKwtrFAA9Tj",
        "outputId": "3a540acb-4356-4475-ccf4-b6bec126d73c"
      },
      "execution_count": 15,
      "outputs": [
        {
          "output_type": "stream",
          "name": "stdout",
          "text": [
            "+-------+------------+\n",
            "|  month|total_orders|\n",
            "+-------+------------+\n",
            "|2003-01|           5|\n",
            "|2003-02|           3|\n",
            "|2003-03|           6|\n",
            "|2003-04|           7|\n",
            "|2003-05|           6|\n",
            "|2003-06|           7|\n",
            "|2003-07|           7|\n",
            "|2003-08|           5|\n",
            "|2003-09|           8|\n",
            "|2003-10|          18|\n",
            "|2003-11|          30|\n",
            "|2003-12|           9|\n",
            "|2004-01|           8|\n",
            "|2004-02|          11|\n",
            "|2004-03|           8|\n",
            "|2004-04|          10|\n",
            "|2004-05|           8|\n",
            "|2004-06|          12|\n",
            "|2004-07|          11|\n",
            "|2004-08|          12|\n",
            "+-------+------------+\n",
            "only showing top 20 rows\n",
            "\n"
          ]
        }
      ]
    },
    {
      "cell_type": "code",
      "source": [
        "result_df = spark.sql(\"\"\"\n",
        "SELECT productLine, COUNT(*) AS total_products\n",
        "FROM products\n",
        "GROUP BY productLine\n",
        "\"\"\")\n",
        "result_df.write.csv(\"output/product_count\", header=True)\n"
      ],
      "metadata": {
        "id": "53vWoix4A_IJ"
      },
      "execution_count": 16,
      "outputs": []
    },
    {
      "cell_type": "code",
      "source": [
        "!zip -r output.zip output\n",
        "from google.colab import files\n",
        "files.download(\"output.zip\")\n"
      ],
      "metadata": {
        "colab": {
          "base_uri": "https://localhost:8080/",
          "height": 141
        },
        "id": "CcQOTT2BBB2U",
        "outputId": "7c36ee36-f38e-4d14-f7bb-ad36a7ee6db5"
      },
      "execution_count": 17,
      "outputs": [
        {
          "output_type": "stream",
          "name": "stdout",
          "text": [
            "  adding: output/ (stored 0%)\n",
            "  adding: output/product_count/ (stored 0%)\n",
            "  adding: output/product_count/._SUCCESS.crc (stored 0%)\n",
            "  adding: output/product_count/_SUCCESS (stored 0%)\n",
            "  adding: output/product_count/.part-00000-8953c16b-13d8-4996-8b9d-e1abf8cfb6c7-c000.csv.crc (stored 0%)\n",
            "  adding: output/product_count/part-00000-8953c16b-13d8-4996-8b9d-e1abf8cfb6c7-c000.csv (deflated 12%)\n"
          ]
        },
        {
          "output_type": "display_data",
          "data": {
            "text/plain": [
              "<IPython.core.display.Javascript object>"
            ],
            "application/javascript": [
              "\n",
              "    async function download(id, filename, size) {\n",
              "      if (!google.colab.kernel.accessAllowed) {\n",
              "        return;\n",
              "      }\n",
              "      const div = document.createElement('div');\n",
              "      const label = document.createElement('label');\n",
              "      label.textContent = `Downloading \"${filename}\": `;\n",
              "      div.appendChild(label);\n",
              "      const progress = document.createElement('progress');\n",
              "      progress.max = size;\n",
              "      div.appendChild(progress);\n",
              "      document.body.appendChild(div);\n",
              "\n",
              "      const buffers = [];\n",
              "      let downloaded = 0;\n",
              "\n",
              "      const channel = await google.colab.kernel.comms.open(id);\n",
              "      // Send a message to notify the kernel that we're ready.\n",
              "      channel.send({})\n",
              "\n",
              "      for await (const message of channel.messages) {\n",
              "        // Send a message to notify the kernel that we're ready.\n",
              "        channel.send({})\n",
              "        if (message.buffers) {\n",
              "          for (const buffer of message.buffers) {\n",
              "            buffers.push(buffer);\n",
              "            downloaded += buffer.byteLength;\n",
              "            progress.value = downloaded;\n",
              "          }\n",
              "        }\n",
              "      }\n",
              "      const blob = new Blob(buffers, {type: 'application/binary'});\n",
              "      const a = document.createElement('a');\n",
              "      a.href = window.URL.createObjectURL(blob);\n",
              "      a.download = filename;\n",
              "      div.appendChild(a);\n",
              "      a.click();\n",
              "      div.remove();\n",
              "    }\n",
              "  "
            ]
          },
          "metadata": {}
        },
        {
          "output_type": "display_data",
          "data": {
            "text/plain": [
              "<IPython.core.display.Javascript object>"
            ],
            "application/javascript": [
              "download(\"download_6b404e2c-aa5d-431b-8452-1f33ba06736c\", \"output.zip\", 1417)"
            ]
          },
          "metadata": {}
        }
      ]
    },
    {
      "cell_type": "code",
      "source": [
        "spark.sql(\"\"\"\n",
        "SELECT p.productName, SUM(od.quantityOrdered) AS total_qty,\n",
        "       SUM(od.quantityOrdered*od.priceEach) AS total_value\n",
        "FROM orderdetails od\n",
        "JOIN products p ON od.productCode = p.productCode\n",
        "GROUP BY p.productName\n",
        "ORDER BY total_qty DESC\n",
        "LIMIT 1\n",
        "\"\"\").show()\n"
      ],
      "metadata": {
        "colab": {
          "base_uri": "https://localhost:8080/"
        },
        "id": "iT9nALa-BEtV",
        "outputId": "547590b9-383c-4059-f7f8-a26f1a426cf8"
      },
      "execution_count": 18,
      "outputs": [
        {
          "output_type": "stream",
          "name": "stdout",
          "text": [
            "+--------------------+---------+-----------+\n",
            "|         productName|total_qty|total_value|\n",
            "+--------------------+---------+-----------+\n",
            "|1992 Ferrari 360 ...|     1808|  276839.98|\n",
            "+--------------------+---------+-----------+\n",
            "\n"
          ]
        }
      ]
    },
    {
      "cell_type": "code",
      "source": [
        "payments.createOrReplaceTempView(\"payments\")\n",
        "customers.createOrReplaceTempView(\"customers\")\n",
        "employees.createOrReplaceTempView(\"employees\")\n",
        "offices.createOrReplaceTempView(\"offices\")\n",
        "orders.createOrReplaceTempView(\"orders\")\n"
      ],
      "metadata": {
        "id": "D-EAQ_6TBMsC"
      },
      "execution_count": 19,
      "outputs": []
    },
    {
      "cell_type": "code",
      "source": [
        "spark.sql(\"\"\"\n",
        "SELECT o.officeCode,\n",
        "       ROUND(AVG(DATEDIFF(p.paymentDate, o2.shippedDate)), 2) AS avg_delay_days\n",
        "FROM payments p\n",
        "JOIN customers c ON p.customerNumber = c.customerNumber\n",
        "JOIN employees e ON c.salesRepEmployeeNumber = e.employeeNumber\n",
        "JOIN offices o ON e.officeCode = o.officeCode\n",
        "JOIN orders o2 ON c.customerNumber = o2.customerNumber\n",
        "WHERE p.paymentDate IS NOT NULL AND o2.shippedDate IS NOT NULL\n",
        "GROUP BY o.officeCode\n",
        "ORDER BY avg_delay_days DESC\n",
        "\"\"\").show()\n"
      ],
      "metadata": {
        "colab": {
          "base_uri": "https://localhost:8080/"
        },
        "id": "bioWX2liBO1Z",
        "outputId": "acba70b0-f20c-493a-8733-66c4ce076a22"
      },
      "execution_count": 20,
      "outputs": [
        {
          "output_type": "stream",
          "name": "stdout",
          "text": [
            "+----------+--------------+\n",
            "|officeCode|avg_delay_days|\n",
            "+----------+--------------+\n",
            "|         5|         21.61|\n",
            "|         2|         12.76|\n",
            "|         3|         10.17|\n",
            "|         7|           4.8|\n",
            "|         4|        -14.29|\n",
            "|         6|        -25.42|\n",
            "|         1|        -28.41|\n",
            "+----------+--------------+\n",
            "\n"
          ]
        }
      ]
    },
    {
      "cell_type": "code",
      "source": [],
      "metadata": {
        "id": "jo0mrna9BQOB"
      },
      "execution_count": null,
      "outputs": []
    }
  ]
}