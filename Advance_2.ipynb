{
  "nbformat": 4,
  "nbformat_minor": 0,
  "metadata": {
    "colab": {
      "provenance": [],
      "authorship_tag": "ABX9TyMtEdu/OtBoVvPap1YaXeVd",
      "include_colab_link": true
    },
    "kernelspec": {
      "name": "python3",
      "display_name": "Python 3"
    },
    "language_info": {
      "name": "python"
    }
  },
  "cells": [
    {
      "cell_type": "markdown",
      "metadata": {
        "id": "view-in-github",
        "colab_type": "text"
      },
      "source": [
        "<a href=\"https://colab.research.google.com/github/Indresh0007/PySpark-Indresh/blob/main/Advance_2.ipynb\" target=\"_parent\"><img src=\"https://colab.research.google.com/assets/colab-badge.svg\" alt=\"Open In Colab\"/></a>"
      ]
    },
    {
      "cell_type": "markdown",
      "source": [
        "## RDD"
      ],
      "metadata": {
        "id": "IRdgYCIkmkuO"
      }
    },
    {
      "cell_type": "code",
      "execution_count": null,
      "metadata": {
        "colab": {
          "base_uri": "https://localhost:8080/",
          "height": 512
        },
        "id": "5H2wjH-zmblH",
        "outputId": "9e1d1597-9517-4837-c409-a61d13359adf"
      },
      "outputs": [
        {
          "output_type": "error",
          "ename": "ValueError",
          "evalue": "Cannot run multiple SparkContexts at once; existing SparkContext(app=count app, master=local) created by __init__ at /tmp/ipython-input-1-3322327215.py:3 ",
          "traceback": [
            "\u001b[0;31m---------------------------------------------------------------------------\u001b[0m",
            "\u001b[0;31mValueError\u001b[0m                                Traceback (most recent call last)",
            "\u001b[0;32m/tmp/ipython-input-8-3885225747.py\u001b[0m in \u001b[0;36m<cell line: 0>\u001b[0;34m()\u001b[0m\n\u001b[1;32m      2\u001b[0m \u001b[0;34m\u001b[0m\u001b[0m\n\u001b[1;32m      3\u001b[0m \u001b[0mconf\u001b[0m \u001b[0;34m=\u001b[0m \u001b[0mSparkConf\u001b[0m\u001b[0;34m(\u001b[0m\u001b[0;34m)\u001b[0m\u001b[0;34m.\u001b[0m\u001b[0msetAppName\u001b[0m\u001b[0;34m(\u001b[0m\u001b[0;34m\"MySparkApp\"\u001b[0m\u001b[0;34m)\u001b[0m\u001b[0;34m.\u001b[0m\u001b[0msetMaster\u001b[0m\u001b[0;34m(\u001b[0m\u001b[0;34m\"local[*]\"\u001b[0m\u001b[0;34m)\u001b[0m\u001b[0;34m\u001b[0m\u001b[0;34m\u001b[0m\u001b[0m\n\u001b[0;32m----> 4\u001b[0;31m \u001b[0msc\u001b[0m \u001b[0;34m=\u001b[0m \u001b[0mSparkContext\u001b[0m\u001b[0;34m(\u001b[0m\u001b[0mconf\u001b[0m\u001b[0;34m=\u001b[0m\u001b[0mconf\u001b[0m\u001b[0;34m)\u001b[0m\u001b[0;34m\u001b[0m\u001b[0;34m\u001b[0m\u001b[0m\n\u001b[0m\u001b[1;32m      5\u001b[0m \u001b[0;34m\u001b[0m\u001b[0m\n\u001b[1;32m      6\u001b[0m \u001b[0mrdd\u001b[0m \u001b[0;34m=\u001b[0m \u001b[0msc\u001b[0m\u001b[0;34m.\u001b[0m\u001b[0mparallelize\u001b[0m\u001b[0;34m(\u001b[0m\u001b[0;34m[\u001b[0m\u001b[0;36m1\u001b[0m\u001b[0;34m,\u001b[0m\u001b[0;36m2\u001b[0m\u001b[0;34m,\u001b[0m\u001b[0;36m3\u001b[0m\u001b[0;34m,\u001b[0m\u001b[0;36m4\u001b[0m\u001b[0;34m,\u001b[0m\u001b[0;36m5\u001b[0m\u001b[0;34m]\u001b[0m\u001b[0;34m)\u001b[0m\u001b[0;34m\u001b[0m\u001b[0;34m\u001b[0m\u001b[0m\n",
            "\u001b[0;32m/usr/local/lib/python3.11/dist-packages/pyspark/context.py\u001b[0m in \u001b[0;36m__init__\u001b[0;34m(self, master, appName, sparkHome, pyFiles, environment, batchSize, serializer, conf, gateway, jsc, profiler_cls, udf_profiler_cls, memory_profiler_cls)\u001b[0m\n\u001b[1;32m    199\u001b[0m             )\n\u001b[1;32m    200\u001b[0m \u001b[0;34m\u001b[0m\u001b[0m\n\u001b[0;32m--> 201\u001b[0;31m         \u001b[0mSparkContext\u001b[0m\u001b[0;34m.\u001b[0m\u001b[0m_ensure_initialized\u001b[0m\u001b[0;34m(\u001b[0m\u001b[0mself\u001b[0m\u001b[0;34m,\u001b[0m \u001b[0mgateway\u001b[0m\u001b[0;34m=\u001b[0m\u001b[0mgateway\u001b[0m\u001b[0;34m,\u001b[0m \u001b[0mconf\u001b[0m\u001b[0;34m=\u001b[0m\u001b[0mconf\u001b[0m\u001b[0;34m)\u001b[0m\u001b[0;34m\u001b[0m\u001b[0;34m\u001b[0m\u001b[0m\n\u001b[0m\u001b[1;32m    202\u001b[0m         \u001b[0;32mtry\u001b[0m\u001b[0;34m:\u001b[0m\u001b[0;34m\u001b[0m\u001b[0;34m\u001b[0m\u001b[0m\n\u001b[1;32m    203\u001b[0m             self._do_init(\n",
            "\u001b[0;32m/usr/local/lib/python3.11/dist-packages/pyspark/context.py\u001b[0m in \u001b[0;36m_ensure_initialized\u001b[0;34m(cls, instance, gateway, conf)\u001b[0m\n\u001b[1;32m    447\u001b[0m \u001b[0;34m\u001b[0m\u001b[0m\n\u001b[1;32m    448\u001b[0m                     \u001b[0;31m# Raise error if there is already a running Spark context\u001b[0m\u001b[0;34m\u001b[0m\u001b[0;34m\u001b[0m\u001b[0m\n\u001b[0;32m--> 449\u001b[0;31m                     raise ValueError(\n\u001b[0m\u001b[1;32m    450\u001b[0m                         \u001b[0;34m\"Cannot run multiple SparkContexts at once; \"\u001b[0m\u001b[0;34m\u001b[0m\u001b[0;34m\u001b[0m\u001b[0m\n\u001b[1;32m    451\u001b[0m                         \u001b[0;34m\"existing SparkContext(app=%s, master=%s)\"\u001b[0m\u001b[0;34m\u001b[0m\u001b[0;34m\u001b[0m\u001b[0m\n",
            "\u001b[0;31mValueError\u001b[0m: Cannot run multiple SparkContexts at once; existing SparkContext(app=count app, master=local) created by __init__ at /tmp/ipython-input-1-3322327215.py:3 "
          ]
        }
      ],
      "source": [
        "from pyspark import SparkContext, SparkConf\n",
        "\n",
        "conf = SparkConf().setAppName(\"MySparkApp\").setMaster(\"local[*]\")\n",
        "sc = SparkContext(conf=conf)\n",
        "\n",
        "rdd = sc.parallelize([1,2,3,4,5])\n",
        "rdd_mapped = rdd.map(lambda x: x*2)\n",
        "print(rdd_mapped.collect())\n",
        "\n",
        "rdd_filtered = rdd.filter(lambda x: x%2 == 0)\n",
        "print(rdd_filtered.collect())\n",
        "\n",
        "sc.stop()\n"
      ]
    },
    {
      "cell_type": "code",
      "source": [
        "from pyspark import SparkContext, SparkConf\n",
        "\n",
        "# 🔹 Stop any existing SparkContext\n",
        "try:\n",
        "    sc.stop()\n",
        "except:\n",
        "    pass\n",
        "\n",
        "conf = SparkConf().setAppName(\"MySparkApp\").setMaster(\"local[*]\")\n",
        "sc = SparkContext(conf=conf)\n",
        "\n",
        "rdd = sc.parallelize([1,2,3,4,5])\n",
        "\n",
        "#transformation Map\n",
        "rdd_mapped = rdd.map(lambda x: x*2)\n",
        "print(rdd_mapped.collect())\n",
        "\n",
        "#transformation Filter\n",
        "rdd_filtered = rdd.filter(lambda x: x%2 == 0)\n",
        "print(rdd_filtered.collect())\n",
        "\n",
        "#transformation Reduce\n",
        "rd_reduce = rdd.reduce(lambda x,y: x+y)\n",
        "print(rd_reduce)\n",
        "\n",
        "#transformation: Flatmap\n",
        "rdd =sc.parallelize([1,2,3])\n",
        "#create a range of numbers for each element\n",
        "rdd_flatmap = rdd.flatMap(lambda x: range(x,x+4))\n",
        "#collect the result\n",
        "print(rdd_flatmap.collect())\n",
        "\n",
        "rdd=sc.parallelize([\"hello\",\"world\"])\n",
        "rdd_flatmap = rdd.flatMap(lambda x: list(x))\n",
        "print(rdd_flatmap.collect())\n",
        "\n",
        "rdd=sc.parallelize([[1,2],[3,4],[5]])\n",
        "rdd_flatmap = rdd.flatMap(lambda x: x)\n",
        "print(rdd_flatmap.collect())\n",
        "\n",
        "rdd = sc.parallelize([1,2,3,4,5])\n",
        "rdd_group =rdd.groupBy(lambda x: \"even\" if x%2 == 0 else \"odd\")\n",
        "print([(key, list(value)) for key, value in rdd_group.collect()])\n",
        "\n",
        "\n",
        "sc.stop()  #  Stop after work\n"
      ],
      "metadata": {
        "colab": {
          "base_uri": "https://localhost:8080/"
        },
        "id": "gczAVyEWnfpj",
        "outputId": "1bcc1e3d-0ef4-4bd0-dde4-5fbb402b51bc"
      },
      "execution_count": 31,
      "outputs": [
        {
          "output_type": "stream",
          "name": "stdout",
          "text": [
            "[2, 4, 6, 8, 10]\n",
            "[2, 4]\n",
            "15\n",
            "[1, 2, 3, 4, 2, 3, 4, 5, 3, 4, 5, 6]\n",
            "['h', 'e', 'l', 'l', 'o', 'w', 'o', 'r', 'l', 'd']\n",
            "[1, 2, 3, 4, 5]\n",
            "[('even', [2, 4]), ('odd', [1, 3, 5])]\n"
          ]
        }
      ]
    },
    {
      "cell_type": "markdown",
      "source": [
        "## DataFrame"
      ],
      "metadata": {
        "id": "XOs9VmN37vIP"
      }
    },
    {
      "cell_type": "code",
      "source": [
        "data = [\n",
        "    (1, \"John\", \"HR\", 5000),\n",
        "    (2, \"Jane\", \"IT\", 8000),\n",
        "    (3, \"Mike\", \"IT\", 6000),\n",
        "    (4, \"Sara\", \"Finance\", 7000),\n",
        "    (5, \"David\", \"HR\", 5500)\n",
        "]\n",
        "\n",
        "from pyspark.sql import SparkSession\n",
        "\n",
        "# Initialize SparkSession\n",
        "spark = SparkSession.builder.appName(\"DataFrameOperations\").getOrCreate()\n",
        "\n",
        "# Define column names\n",
        "columns = [\"ID\", \"Name\", \"Department\", \"Salary\"]\n",
        "\n",
        "# Create a DataFrame from the sample data\n",
        "df = spark.createDataFrame(data, columns)\n",
        "\n",
        "# Show the DataFrame\n",
        "df.show()"
      ],
      "metadata": {
        "id": "070-st1OzXkR",
        "colab": {
          "base_uri": "https://localhost:8080/"
        },
        "outputId": "1ff3aa78-0ff9-4bf5-b9aa-eb65007ac6d6"
      },
      "execution_count": 32,
      "outputs": [
        {
          "output_type": "stream",
          "name": "stdout",
          "text": [
            "+---+-----+----------+------+\n",
            "| ID| Name|Department|Salary|\n",
            "+---+-----+----------+------+\n",
            "|  1| John|        HR|  5000|\n",
            "|  2| Jane|        IT|  8000|\n",
            "|  3| Mike|        IT|  6000|\n",
            "|  4| Sara|   Finance|  7000|\n",
            "|  5|David|        HR|  5500|\n",
            "+---+-----+----------+------+\n",
            "\n"
          ]
        }
      ]
    },
    {
      "cell_type": "code",
      "source": [
        "df.select(\"Name\",\"Salary\").show()"
      ],
      "metadata": {
        "colab": {
          "base_uri": "https://localhost:8080/"
        },
        "id": "WqAUzTgB7rIZ",
        "outputId": "1a156667-64a8-499e-fda0-efb5afb773ae"
      },
      "execution_count": 33,
      "outputs": [
        {
          "output_type": "stream",
          "name": "stdout",
          "text": [
            "+-----+------+\n",
            "| Name|Salary|\n",
            "+-----+------+\n",
            "| John|  5000|\n",
            "| Jane|  8000|\n",
            "| Mike|  6000|\n",
            "| Sara|  7000|\n",
            "|David|  5500|\n",
            "+-----+------+\n",
            "\n"
          ]
        }
      ]
    },
    {
      "cell_type": "code",
      "source": [
        "df.filter(df[\"Salary\"] >6000).show()"
      ],
      "metadata": {
        "colab": {
          "base_uri": "https://localhost:8080/"
        },
        "id": "KpTr3pZA75_z",
        "outputId": "0568da2b-667e-414a-9f58-ad667cb51b87"
      },
      "execution_count": 34,
      "outputs": [
        {
          "output_type": "stream",
          "name": "stdout",
          "text": [
            "+---+----+----------+------+\n",
            "| ID|Name|Department|Salary|\n",
            "+---+----+----------+------+\n",
            "|  2|Jane|        IT|  8000|\n",
            "|  4|Sara|   Finance|  7000|\n",
            "+---+----+----------+------+\n",
            "\n"
          ]
        }
      ]
    },
    {
      "cell_type": "code",
      "source": [
        "from pyspark.sql.functions import col\n",
        "df=df.withColumn(\"Bonus\",df[\"Salary\"]*0.1)\n",
        "df.show()"
      ],
      "metadata": {
        "colab": {
          "base_uri": "https://localhost:8080/"
        },
        "id": "IcrgXQGT8ERr",
        "outputId": "3c763007-ee72-4e67-ef2c-2079c9d810f1"
      },
      "execution_count": 41,
      "outputs": [
        {
          "output_type": "stream",
          "name": "stdout",
          "text": [
            "+---+-----+----------+------+-----+\n",
            "| ID| Name|Department|Salary|Bonus|\n",
            "+---+-----+----------+------+-----+\n",
            "|  1| John|        HR|  5000|500.0|\n",
            "|  2| Jane|        IT|  8000|800.0|\n",
            "|  3| Mike|        IT|  6000|600.0|\n",
            "|  4| Sara|   Finance|  7000|700.0|\n",
            "|  5|David|        HR|  5500|550.0|\n",
            "+---+-----+----------+------+-----+\n",
            "\n"
          ]
        }
      ]
    },
    {
      "cell_type": "code",
      "source": [
        "df=df.drop(\"Bonus\")\n",
        "df.show()"
      ],
      "metadata": {
        "colab": {
          "base_uri": "https://localhost:8080/"
        },
        "id": "NXXgj6sW8iwM",
        "outputId": "18a6534e-1155-4c74-d35d-ff82b50ae1a8"
      },
      "execution_count": 49,
      "outputs": [
        {
          "output_type": "stream",
          "name": "stdout",
          "text": [
            "+---+-----+----------+------+\n",
            "| ID| Name|Department|Salary|\n",
            "+---+-----+----------+------+\n",
            "|  1| John|        HR|  5000|\n",
            "|  2| Jane|        IT|  8000|\n",
            "|  3| Mike|        IT|  6000|\n",
            "|  4| Sara|   Finance|  7000|\n",
            "|  5|David|        HR|  5500|\n",
            "+---+-----+----------+------+\n",
            "\n"
          ]
        }
      ]
    },
    {
      "cell_type": "code",
      "source": [
        "df=df.withColumnRenamed(\"Salary\",\"Salary_After_tax\")\n",
        "df.show()\n"
      ],
      "metadata": {
        "colab": {
          "base_uri": "https://localhost:8080/"
        },
        "id": "20pL9vN_8qEN",
        "outputId": "44139224-86a0-49d2-eaf6-c3a023391345"
      },
      "execution_count": 37,
      "outputs": [
        {
          "output_type": "stream",
          "name": "stdout",
          "text": [
            "+---+-----+----------+----------------+\n",
            "| ID| Name|Department|Salary_After_tax|\n",
            "+---+-----+----------+----------------+\n",
            "|  1| John|        HR|            5000|\n",
            "|  2| Jane|        IT|            8000|\n",
            "|  3| Mike|        IT|            6000|\n",
            "|  4| Sara|   Finance|            7000|\n",
            "|  5|David|        HR|            5500|\n",
            "+---+-----+----------+----------------+\n",
            "\n"
          ]
        }
      ]
    },
    {
      "cell_type": "code",
      "source": [
        "df=df.withColumnRenamed(\"Salary_After_tax\",\"Salary\")\n",
        "df.show()\n"
      ],
      "metadata": {
        "colab": {
          "base_uri": "https://localhost:8080/"
        },
        "id": "sIoRc-Oj84JI",
        "outputId": "789981ec-08f5-4855-ff74-3432e934ec6d"
      },
      "execution_count": 40,
      "outputs": [
        {
          "output_type": "stream",
          "name": "stdout",
          "text": [
            "+---+-----+----------+------+\n",
            "| ID| Name|Department|Salary|\n",
            "+---+-----+----------+------+\n",
            "|  1| John|        HR|  5000|\n",
            "|  2| Jane|        IT|  8000|\n",
            "|  3| Mike|        IT|  6000|\n",
            "|  4| Sara|   Finance|  7000|\n",
            "|  5|David|        HR|  5500|\n",
            "+---+-----+----------+------+\n",
            "\n"
          ]
        }
      ]
    },
    {
      "cell_type": "code",
      "source": [
        "df.groupBy(\"Department\").agg(avg(\"Salary\").alias(\"Avg-Salary\")).show()"
      ],
      "metadata": {
        "colab": {
          "base_uri": "https://localhost:8080/"
        },
        "id": "f0P0XOkg9NPN",
        "outputId": "557d210f-0e37-47a5-e43d-b79defe1fb71"
      },
      "execution_count": 42,
      "outputs": [
        {
          "output_type": "stream",
          "name": "stdout",
          "text": [
            "+----------+----------+\n",
            "|Department|Avg-Salary|\n",
            "+----------+----------+\n",
            "|        HR|    5250.0|\n",
            "|        IT|    7000.0|\n",
            "|   Finance|    7000.0|\n",
            "+----------+----------+\n",
            "\n"
          ]
        }
      ]
    },
    {
      "cell_type": "code",
      "source": [
        "df.groupBy(\"Department\").count().show()"
      ],
      "metadata": {
        "colab": {
          "base_uri": "https://localhost:8080/"
        },
        "id": "eCc-fX2S9fWI",
        "outputId": "7c622038-033d-4df2-87c8-cea7b7643752"
      },
      "execution_count": 45,
      "outputs": [
        {
          "output_type": "stream",
          "name": "stdout",
          "text": [
            "+----------+-----+\n",
            "|Department|count|\n",
            "+----------+-----+\n",
            "|        HR|    2|\n",
            "|        IT|    2|\n",
            "|   Finance|    1|\n",
            "+----------+-----+\n",
            "\n"
          ]
        }
      ]
    },
    {
      "cell_type": "code",
      "source": [
        "df.sort(df[\"Salary\"].desc()).show()"
      ],
      "metadata": {
        "colab": {
          "base_uri": "https://localhost:8080/"
        },
        "id": "hh_XgfHX9naq",
        "outputId": "58af36dc-a890-47be-d8e1-b76e1524d7f3"
      },
      "execution_count": 50,
      "outputs": [
        {
          "output_type": "stream",
          "name": "stdout",
          "text": [
            "+---+-----+----------+------+\n",
            "| ID| Name|Department|Salary|\n",
            "+---+-----+----------+------+\n",
            "|  2| Jane|        IT|  8000|\n",
            "|  4| Sara|   Finance|  7000|\n",
            "|  3| Mike|        IT|  6000|\n",
            "|  5|David|        HR|  5500|\n",
            "|  1| John|        HR|  5000|\n",
            "+---+-----+----------+------+\n",
            "\n"
          ]
        }
      ]
    },
    {
      "cell_type": "code",
      "source": [
        "data_list=df.collect()\n",
        "\n",
        "for row in data_list:\n",
        "  print(row)"
      ],
      "metadata": {
        "colab": {
          "base_uri": "https://localhost:8080/"
        },
        "id": "t4_2XYt-91CD",
        "outputId": "4e477b79-2aa1-4d73-8ec7-ae3275fb8974"
      },
      "execution_count": 53,
      "outputs": [
        {
          "output_type": "stream",
          "name": "stdout",
          "text": [
            "Row(ID=1, Name='John', Department='HR', Salary=5000)\n",
            "Row(ID=2, Name='Jane', Department='IT', Salary=8000)\n",
            "Row(ID=3, Name='Mike', Department='IT', Salary=6000)\n",
            "Row(ID=4, Name='Sara', Department='Finance', Salary=7000)\n",
            "Row(ID=5, Name='David', Department='HR', Salary=5500)\n"
          ]
        }
      ]
    },
    {
      "cell_type": "markdown",
      "source": [
        "## DataSet"
      ],
      "metadata": {
        "id": "cMv9EyAE-tsp"
      }
    },
    {
      "cell_type": "code",
      "source": [
        "from pyspark.sql import SparkSession, Row\n",
        "\n",
        "# Create SparkSession\n",
        "spark = SparkSession.builder.appName(\"MySparkApp\").master(\"local[*]\").getOrCreate()\n",
        "sc = spark.sparkContext\n",
        "\n",
        "# Create RDD of Row objects\n",
        "rdd = sc.parallelize([Row(name=\"Alice\", age=25), Row(name=\"Bob\", age=30)])\n",
        "\n",
        "# Convert RDD to DataFrame (PySpark equivalent of Dataset)\n",
        "df = spark.createDataFrame(rdd)\n",
        "\n",
        "# Filter: Age > 25\n",
        "filtered = df.filter(df.age > 25)\n",
        "\n",
        "# Select only 'name' column\n",
        "names = filtered.select(\"name\")\n",
        "\n",
        "# Show results\n",
        "names.show()\n"
      ],
      "metadata": {
        "colab": {
          "base_uri": "https://localhost:8080/"
        },
        "id": "HnKMf1D8-OYt",
        "outputId": "ae572122-41ac-457b-8ba2-51032792ec39"
      },
      "execution_count": 58,
      "outputs": [
        {
          "output_type": "stream",
          "name": "stdout",
          "text": [
            "+----+\n",
            "|name|\n",
            "+----+\n",
            "| Bob|\n",
            "+----+\n",
            "\n"
          ]
        }
      ]
    },
    {
      "cell_type": "code",
      "source": [
        "from pyspark.sql import SparkSession\n",
        "\n",
        "spark = SparkSession.builder.appName(\"SparkSQLBasics\").getOrCreate()\n",
        "\n",
        "data = [\n",
        "    (1, \"Alice\", \"Sales\", 3000),\n",
        "    (2, \"Bob\", \"IT\", 4000),\n",
        "    (3, \"Cathy\", \"HR\", 3500),\n",
        "    (4, \"David\", \"Sales\", 4500),\n",
        "    (5, \"Eva\", \"IT\", 4200)\n",
        "]\n",
        "columns = [\"EmpID\", \"Name\", \"Department\", \"Salary\"]\n",
        "\n",
        "df = spark.createDataFrame(data, columns)\n",
        "df.show()"
      ],
      "metadata": {
        "colab": {
          "base_uri": "https://localhost:8080/"
        },
        "id": "wCxLww1hBA80",
        "outputId": "feeb849f-5502-451f-8f63-634f955c52a3"
      },
      "execution_count": 59,
      "outputs": [
        {
          "output_type": "stream",
          "name": "stdout",
          "text": [
            "+-----+-----+----------+------+\n",
            "|EmpID| Name|Department|Salary|\n",
            "+-----+-----+----------+------+\n",
            "|    1|Alice|     Sales|  3000|\n",
            "|    2|  Bob|        IT|  4000|\n",
            "|    3|Cathy|        HR|  3500|\n",
            "|    4|David|     Sales|  4500|\n",
            "|    5|  Eva|        IT|  4200|\n",
            "+-----+-----+----------+------+\n",
            "\n"
          ]
        }
      ]
    },
    {
      "cell_type": "code",
      "source": [
        "rdd=df.rdd\n",
        "print(\"RDD Example:\", rdd.map(lambda x: (x.Name, x.Salary)).collect())\n"
      ],
      "metadata": {
        "colab": {
          "base_uri": "https://localhost:8080/"
        },
        "id": "CFLvPpg6CUOg",
        "outputId": "9cac86b7-9ee2-458c-fffd-4851c8d80ab8"
      },
      "execution_count": 63,
      "outputs": [
        {
          "output_type": "stream",
          "name": "stdout",
          "text": [
            "RDD Example: [('Alice', 3000), ('Bob', 4000), ('Cathy', 3500), ('David', 4500), ('Eva', 4200)]\n"
          ]
        }
      ]
    },
    {
      "cell_type": "code",
      "source": [
        "df.select(\"Name\",\"Salary\").show()"
      ],
      "metadata": {
        "colab": {
          "base_uri": "https://localhost:8080/"
        },
        "id": "qZPsObDVCqMM",
        "outputId": "aac38a01-c1c7-4de7-fac8-ad0cb6c7ecf7"
      },
      "execution_count": 61,
      "outputs": [
        {
          "output_type": "stream",
          "name": "stdout",
          "text": [
            "+-----+------+\n",
            "| Name|Salary|\n",
            "+-----+------+\n",
            "|Alice|  3000|\n",
            "|  Bob|  4000|\n",
            "|Cathy|  3500|\n",
            "|David|  4500|\n",
            "|  Eva|  4200|\n",
            "+-----+------+\n",
            "\n"
          ]
        }
      ]
    },
    {
      "cell_type": "code",
      "source": [
        "df.createOrReplaceTempView(\"employees\")\n",
        "\n",
        "strSQL=\"select * from employees\"\n",
        "sql_result=spark.sql(strSQL)\n",
        "sql_result.show()"
      ],
      "metadata": {
        "colab": {
          "base_uri": "https://localhost:8080/"
        },
        "id": "nw7ZOcQyDJ_l",
        "outputId": "450ba9d6-f81a-4715-f8f1-c39ec998321e"
      },
      "execution_count": 62,
      "outputs": [
        {
          "output_type": "stream",
          "name": "stdout",
          "text": [
            "+-----+-----+----------+------+\n",
            "|EmpID| Name|Department|Salary|\n",
            "+-----+-----+----------+------+\n",
            "|    1|Alice|     Sales|  3000|\n",
            "|    2|  Bob|        IT|  4000|\n",
            "|    3|Cathy|        HR|  3500|\n",
            "|    4|David|     Sales|  4500|\n",
            "|    5|  Eva|        IT|  4200|\n",
            "+-----+-----+----------+------+\n",
            "\n"
          ]
        }
      ]
    },
    {
      "cell_type": "markdown",
      "source": [
        "## Data Format"
      ],
      "metadata": {
        "id": "MjVidGWNE0BZ"
      }
    },
    {
      "cell_type": "code",
      "source": [
        "data = [\n",
        "    (1, \"Alice\", \"Sales\", 3000),\n",
        "    (2, \"Bob\", \"IT\", 4000),\n",
        "    (3, \"Cathy\", \"HR\", 3500)\n",
        "]\n",
        "columns = [\"EmpID\", \"Name\", \"Department\", \"Salary\"]\n",
        "df = spark.createDataFrame(data, columns)\n",
        "df.show()"
      ],
      "metadata": {
        "colab": {
          "base_uri": "https://localhost:8080/"
        },
        "id": "5AxPDNg8Drrz",
        "outputId": "1a92c590-5046-4a98-e22e-62953e6c1d6f"
      },
      "execution_count": 64,
      "outputs": [
        {
          "output_type": "stream",
          "name": "stdout",
          "text": [
            "+-----+-----+----------+------+\n",
            "|EmpID| Name|Department|Salary|\n",
            "+-----+-----+----------+------+\n",
            "|    1|Alice|     Sales|  3000|\n",
            "|    2|  Bob|        IT|  4000|\n",
            "|    3|Cathy|        HR|  3500|\n",
            "+-----+-----+----------+------+\n",
            "\n"
          ]
        }
      ]
    },
    {
      "cell_type": "code",
      "source": [
        "pwd\n"
      ],
      "metadata": {
        "colab": {
          "base_uri": "https://localhost:8080/",
          "height": 35
        },
        "id": "5Z6_QrzpE4y5",
        "outputId": "a5b5b773-363e-4af8-d604-79385a072791"
      },
      "execution_count": 65,
      "outputs": [
        {
          "output_type": "execute_result",
          "data": {
            "text/plain": [
              "'/content'"
            ],
            "application/vnd.google.colaboratory.intrinsic+json": {
              "type": "string"
            }
          },
          "metadata": {},
          "execution_count": 65
        }
      ]
    },
    {
      "cell_type": "code",
      "source": [
        "df.write.mode(\"overwrite\").json(\"/content/json_data\")"
      ],
      "metadata": {
        "id": "WMHfIOFAE8MG"
      },
      "execution_count": 66,
      "outputs": []
    },
    {
      "cell_type": "code",
      "source": [
        "!ls /content/json_data/"
      ],
      "metadata": {
        "colab": {
          "base_uri": "https://localhost:8080/"
        },
        "id": "Xko4bXkPFSCH",
        "outputId": "587008e7-8177-46b7-e5bf-94f2e9d040a8"
      },
      "execution_count": 67,
      "outputs": [
        {
          "output_type": "stream",
          "name": "stdout",
          "text": [
            "part-00000-1c54e382-6920-4f6e-831b-4787a7ec6cd6-c000.json  _SUCCESS\n",
            "part-00001-1c54e382-6920-4f6e-831b-4787a7ec6cd6-c000.json\n"
          ]
        }
      ]
    },
    {
      "cell_type": "code",
      "source": [
        "!cat /content/json_data/part-00000-1c54e382-6920-4f6e-831b-4787a7ec6cd6-c000.json\n"
      ],
      "metadata": {
        "colab": {
          "base_uri": "https://localhost:8080/"
        },
        "id": "WGLDI4oUFXHk",
        "outputId": "17d4f645-60b3-4aa0-9b11-331a45cda903"
      },
      "execution_count": 68,
      "outputs": [
        {
          "output_type": "stream",
          "name": "stdout",
          "text": [
            "{\"EmpID\":1,\"Name\":\"Alice\",\"Department\":\"Sales\",\"Salary\":3000}\n"
          ]
        }
      ]
    },
    {
      "cell_type": "code",
      "source": [
        "!cat /content/json_data/part-00001-1c54e382-6920-4f6e-831b-4787a7ec6cd6-c000.json"
      ],
      "metadata": {
        "colab": {
          "base_uri": "https://localhost:8080/"
        },
        "id": "x0PSEP6-FmkC",
        "outputId": "a8b26e32-6a34-446b-97ab-5ca535095df0"
      },
      "execution_count": 69,
      "outputs": [
        {
          "output_type": "stream",
          "name": "stdout",
          "text": [
            "{\"EmpID\":2,\"Name\":\"Bob\",\"Department\":\"IT\",\"Salary\":4000}\n",
            "{\"EmpID\":3,\"Name\":\"Cathy\",\"Department\":\"HR\",\"Salary\":3500}\n"
          ]
        }
      ]
    },
    {
      "cell_type": "code",
      "source": [
        "json_df= spark.read.json(\"/content/json_data/\")\n",
        "json_df.show()"
      ],
      "metadata": {
        "colab": {
          "base_uri": "https://localhost:8080/"
        },
        "id": "ddEpGHo7FrAo",
        "outputId": "ac887ea7-7a6e-4c3b-a0e6-3768bdf20901"
      },
      "execution_count": 71,
      "outputs": [
        {
          "output_type": "stream",
          "name": "stdout",
          "text": [
            "+----------+-----+-----+------+\n",
            "|Department|EmpID| Name|Salary|\n",
            "+----------+-----+-----+------+\n",
            "|        IT|    2|  Bob|  4000|\n",
            "|        HR|    3|Cathy|  3500|\n",
            "|     Sales|    1|Alice|  3000|\n",
            "+----------+-----+-----+------+\n",
            "\n"
          ]
        }
      ]
    },
    {
      "cell_type": "code",
      "source": [
        "\n",
        "StrPath=\"/content/json_data/\"\n",
        "df.write.mode(\"overwrite\").option(\"header\", \"true\").csv(StrPath)"
      ],
      "metadata": {
        "id": "KrOG-2PFF5Mm"
      },
      "execution_count": 73,
      "outputs": []
    },
    {
      "cell_type": "code",
      "source": [
        "csv_df=spark.read.option(\"header\",\"true\").csv(StrPath)\n",
        "csv_df.show()"
      ],
      "metadata": {
        "colab": {
          "base_uri": "https://localhost:8080/"
        },
        "id": "XPJ2X07BG70J",
        "outputId": "d8be7acd-d401-4b8a-a573-066d9a1af121"
      },
      "execution_count": 74,
      "outputs": [
        {
          "output_type": "stream",
          "name": "stdout",
          "text": [
            "+-----+-----+----------+------+\n",
            "|EmpID| Name|Department|Salary|\n",
            "+-----+-----+----------+------+\n",
            "|    2|  Bob|        IT|  4000|\n",
            "|    3|Cathy|        HR|  3500|\n",
            "|    1|Alice|     Sales|  3000|\n",
            "+-----+-----+----------+------+\n",
            "\n"
          ]
        }
      ]
    },
    {
      "cell_type": "markdown",
      "source": [
        "## Spark Streaming"
      ],
      "metadata": {
        "id": "DTSms5VrodCs"
      }
    },
    {
      "cell_type": "code",
      "source": [
        "import random\n",
        "import csv\n",
        "\n",
        "# Generate 30 records with random data\n",
        "names = [\"John\", \"Jane\", \"Mike\", \"Sara\", \"David\", \"Emily\", \"George\", \"Nina\", \"Tom\", \"Anna\"]\n",
        "departments = [\"Sales\", \"IT\", \"HR\", \"Finance\", \"Marketing\"]\n",
        "salaries = [3000, 4000, 5000, 6000, 7000, 8000, 9000, 10000]\n",
        "\n",
        "# Create and open a CSV file for writing\n",
        "with open('employee_data.csv', mode='w', newline='') as file:\n",
        "    writer = csv.writer(file)\n",
        "\n",
        "    # Write the header\n",
        "    writer.writerow([\"ID\", \"Name\", \"Department\", \"Salary\"])\n",
        "\n",
        "    # Write the 30 records\n",
        "    for i in range(1, 31):\n",
        "        name = random.choice(names)\n",
        "        department = random.choice(departments)\n",
        "        salary = random.choice(salaries)\n",
        "        writer.writerow([i, name, department, salary])\n",
        "\n",
        "print(\"CSV file 'employee_data.csv' has been generated successfully.\")"
      ],
      "metadata": {
        "colab": {
          "base_uri": "https://localhost:8080/"
        },
        "id": "urnkh27uHKq5",
        "outputId": "c04c2e1d-8ac9-4b50-f843-8bce9a6f8699"
      },
      "execution_count": 1,
      "outputs": [
        {
          "output_type": "stream",
          "name": "stdout",
          "text": [
            "CSV file 'employee_data.csv' has been generated successfully.\n"
          ]
        }
      ]
    },
    {
      "cell_type": "code",
      "source": [
        "!cat /content/employee_data.csv"
      ],
      "metadata": {
        "colab": {
          "base_uri": "https://localhost:8080/"
        },
        "id": "rPHOY6c0ow9o",
        "outputId": "8437072c-0fd7-4149-bebd-1d5d137fe101"
      },
      "execution_count": 2,
      "outputs": [
        {
          "output_type": "stream",
          "name": "stdout",
          "text": [
            "ID,Name,Department,Salary\r\n",
            "1,John,Sales,4000\r\n",
            "2,Jane,Finance,6000\r\n",
            "3,David,IT,3000\r\n",
            "4,Emily,Marketing,3000\r\n",
            "5,John,Sales,6000\r\n",
            "6,George,Marketing,6000\r\n",
            "7,Jane,Finance,10000\r\n",
            "8,Emily,Sales,4000\r\n",
            "9,Emily,HR,3000\r\n",
            "10,Tom,Marketing,3000\r\n",
            "11,Emily,Sales,8000\r\n",
            "12,Nina,HR,3000\r\n",
            "13,Sara,Sales,4000\r\n",
            "14,Jane,Sales,8000\r\n",
            "15,John,Finance,8000\r\n",
            "16,Tom,IT,6000\r\n",
            "17,John,IT,5000\r\n",
            "18,David,Marketing,5000\r\n",
            "19,John,Finance,3000\r\n",
            "20,Jane,IT,10000\r\n",
            "21,George,Sales,10000\r\n",
            "22,Tom,Finance,6000\r\n",
            "23,Emily,HR,3000\r\n",
            "24,George,HR,8000\r\n",
            "25,David,Marketing,4000\r\n",
            "26,Anna,Marketing,6000\r\n",
            "27,Emily,HR,3000\r\n",
            "28,Jane,Marketing,9000\r\n",
            "29,Tom,HR,4000\r\n",
            "30,David,Marketing,10000\r\n"
          ]
        }
      ]
    },
    {
      "cell_type": "code",
      "source": [
        "ls /content/ -a"
      ],
      "metadata": {
        "colab": {
          "base_uri": "https://localhost:8080/"
        },
        "id": "CXLrvwfZo9hA",
        "outputId": "45efdc7f-b7f7-424c-817d-bfd242a7a906"
      },
      "execution_count": 3,
      "outputs": [
        {
          "output_type": "stream",
          "name": "stdout",
          "text": [
            "\u001b[0m\u001b[01;34m.\u001b[0m/  \u001b[01;34m..\u001b[0m/  \u001b[01;34m.config\u001b[0m/  employee_data.csv  \u001b[01;34msample_data\u001b[0m/\n"
          ]
        }
      ]
    },
    {
      "cell_type": "code",
      "source": [
        "mkdir /content/empdata/"
      ],
      "metadata": {
        "id": "YonM_oVzpKpK"
      },
      "execution_count": 4,
      "outputs": []
    },
    {
      "cell_type": "code",
      "source": [
        "mv /content/employee_data.csv /content/empdata/"
      ],
      "metadata": {
        "id": "O-suIOeppQG0"
      },
      "execution_count": 5,
      "outputs": []
    },
    {
      "cell_type": "code",
      "source": [
        "ls /content/empdata/"
      ],
      "metadata": {
        "colab": {
          "base_uri": "https://localhost:8080/"
        },
        "id": "ictt30CzpWdj",
        "outputId": "c233381b-5c04-4fed-83b5-5077de72117f"
      },
      "execution_count": 6,
      "outputs": [
        {
          "output_type": "stream",
          "name": "stdout",
          "text": [
            "employee_data.csv\n"
          ]
        }
      ]
    },
    {
      "cell_type": "code",
      "source": [
        "ls /content/empdata/employee_data.csv"
      ],
      "metadata": {
        "colab": {
          "base_uri": "https://localhost:8080/"
        },
        "id": "uwObuRD2payF",
        "outputId": "b55e5abd-da7f-492e-a97c-4184c25c34fe"
      },
      "execution_count": 7,
      "outputs": [
        {
          "output_type": "stream",
          "name": "stdout",
          "text": [
            "/content/empdata/employee_data.csv\n"
          ]
        }
      ]
    },
    {
      "cell_type": "code",
      "source": [
        "from pyspark.sql.types import StringType,StructType,IntegerType\n",
        "\n",
        "schema = StructType() \\\n",
        "      .add(\"EmpID\", IntegerType()) \\\n",
        "      .add(\"Name\", StringType()) \\\n",
        "      .add(\"Department\",StringType())\\\n",
        "      .add(\"Salary\", IntegerType())\n",
        "print(schema)"
      ],
      "metadata": {
        "colab": {
          "base_uri": "https://localhost:8080/"
        },
        "id": "ZNTI006Zpfnd",
        "outputId": "d6b8abb1-da3d-4188-ea1c-25f974989868"
      },
      "execution_count": 10,
      "outputs": [
        {
          "output_type": "stream",
          "name": "stdout",
          "text": [
            "StructType([StructField('EmpID', IntegerType(), True), StructField('Name', StringType(), True), StructField('Department', StringType(), True), StructField('Salary', IntegerType(), True)])\n"
          ]
        }
      ]
    },
    {
      "cell_type": "code",
      "source": [
        "from pyspark.sql import SparkSession\n",
        "spark = SparkSession.builder.appName(\"sparkSQLBasics\").getOrCreate()\n",
        "stream_df=spark.readStream \\\n",
        "   .option(\"sep\",\",\") \\\n",
        "   .schema(schema) \\\n",
        "   .csv(\"/content/empdata/\")"
      ],
      "metadata": {
        "id": "LMAx5NfKqsaH"
      },
      "execution_count": 12,
      "outputs": []
    },
    {
      "cell_type": "code",
      "source": [
        "from pyspark.sql.functions import upper\n",
        "transformed_df = stream_df.withColumn(\"NameUPPER\",upper(\"Name\"))"
      ],
      "metadata": {
        "id": "_OjffGlOskNW"
      },
      "execution_count": 13,
      "outputs": []
    },
    {
      "cell_type": "code",
      "source": [
        "query = transformed_df.writeStream \\\n",
        "  .outputMode(\"append\") \\\n",
        "  .format(\"console\") \\\n",
        "  .start()\n"
      ],
      "metadata": {
        "id": "LBesnt5TtEQH"
      },
      "execution_count": 14,
      "outputs": []
    },
    {
      "cell_type": "code",
      "source": [
        "query.stop()"
      ],
      "metadata": {
        "id": "G7uQq6TktVAu"
      },
      "execution_count": 15,
      "outputs": []
    },
    {
      "cell_type": "code",
      "source": [
        "%%bash\n",
        "cat<<EOF > /content/empdata.employee_data2.csv\n",
        "1,John,Sales,3000\n",
        "2,Jane,IT,4000\n",
        "3,Mike,Sales,5000\n",
        "4,Sara,Finance,6000\n",
        "5,David,HR,7000\n",
        "6,Emily,Marketing,6000\n",
        "7,George,HR,4000\n",
        "8,Nina,Sales,5000\n",
        "9,Tom,IT,8000\n",
        "10,Anna,Marketing,3000\n",
        "EOF\n"
      ],
      "metadata": {
        "id": "-izM3Xe9tX4k"
      },
      "execution_count": 17,
      "outputs": []
    },
    {
      "cell_type": "code",
      "source": [
        "%%bash\n",
        "cat<<EOF > /content/empdata.employee_data3.csv\n",
        "11,John,IT,7000\n",
        "12,Jane,HR,4000\n",
        "13,Mike,Finance,5000\n",
        "14,Sara,Sales,6000\n",
        "15,David,Marketing,7000\n",
        "16,Emily,Sales,8000\n",
        "17,George,Finance,3000\n",
        "18,Nina,IT,6000\n",
        "19,Tom,Sales,4000\n",
        "20,Anna,HR,5000\n",
        "EOF\n"
      ],
      "metadata": {
        "id": "KRiMKR7YvRKS"
      },
      "execution_count": 18,
      "outputs": []
    },
    {
      "cell_type": "code",
      "source": [
        "%%bash\n",
        "cat<<EOF > /content/empdata.employee_data4.csv\n",
        "21,John,Finance,7000\n",
        "22,Jane,Marketing,6000\n",
        "23,Mike,HR,8000\n",
        "24,Sara,Sales,3000\n",
        "25,David,IT,6000\n",
        "26,Emily,Finance,5000\n",
        "27,George,Marketing,4000\n",
        "28,Nina,HR,7000\n",
        "29,Tom,Finance,5000\n",
        "30,Anna,IT,8000\n",
        "EOF"
      ],
      "metadata": {
        "id": "e7RuJJFBvxjb"
      },
      "execution_count": 19,
      "outputs": []
    },
    {
      "cell_type": "code",
      "source": [
        "ls /content/empdata/"
      ],
      "metadata": {
        "colab": {
          "base_uri": "https://localhost:8080/"
        },
        "id": "E6-gsMktv4VX",
        "outputId": "0ea197e3-4d65-4ff0-c63e-950ff9af058b"
      },
      "execution_count": 20,
      "outputs": [
        {
          "output_type": "stream",
          "name": "stdout",
          "text": [
            "employee_data.csv\n"
          ]
        }
      ]
    },
    {
      "cell_type": "code",
      "source": [
        "rm /content/empdata.employee_data2.csv"
      ],
      "metadata": {
        "id": "SIjzphukv7u1"
      },
      "execution_count": 21,
      "outputs": []
    },
    {
      "cell_type": "code",
      "source": [
        "rm /content/empdata.employee_data3.csv"
      ],
      "metadata": {
        "id": "oYVrKKrPwIYN"
      },
      "execution_count": 22,
      "outputs": []
    },
    {
      "cell_type": "code",
      "source": [
        "rm /content/empdata.employee_data4.csv"
      ],
      "metadata": {
        "id": "TpTX5jYIwMCR"
      },
      "execution_count": 23,
      "outputs": []
    },
    {
      "cell_type": "code",
      "source": [
        "%%bash\n",
        "cat<<EOF > /content/empdata/employee_data2.csv\n",
        "1,John,Sales,3000\n",
        "2,Jane,IT,4000\n",
        "3,Mike,Sales,5000\n",
        "4,Sara,Finance,6000\n",
        "5,David,HR,7000\n",
        "6,Emily,Marketing,6000\n",
        "7,George,HR,4000\n",
        "8,Nina,Sales,5000\n",
        "9,Tom,IT,8000\n",
        "10,Anna,Marketing,3000\n",
        "EOF"
      ],
      "metadata": {
        "id": "9Ixz4wFIwPQO"
      },
      "execution_count": 24,
      "outputs": []
    },
    {
      "cell_type": "code",
      "source": [
        "%%bash\n",
        "cat<<EOF > /content/empdata/employee_data3.csv\n",
        "11,John,IT,7000\n",
        "12,Jane,HR,4000\n",
        "13,Mike,Finance,5000\n",
        "14,Sara,Sales,6000\n",
        "15,David,Marketing,7000\n",
        "16,Emily,Sales,8000\n",
        "17,George,Finance,3000\n",
        "18,Nina,IT,6000\n",
        "19,Tom,Sales,4000\n",
        "20,Anna,HR,5000\n",
        "EOF\n"
      ],
      "metadata": {
        "id": "R3Uw-QlPwTwH"
      },
      "execution_count": 25,
      "outputs": []
    },
    {
      "cell_type": "code",
      "source": [
        "%%bash\n",
        "cat<<EOF > /content/empdata/employee_data4.csv\n",
        "21,John,Finance,7000\n",
        "22,Jane,Marketing,6000\n",
        "23,Mike,HR,8000\n",
        "24,Sara,Sales,3000\n",
        "25,David,IT,6000\n",
        "26,Emily,Finance,5000\n",
        "27,George,Marketing,4000\n",
        "28,Nina,HR,7000\n",
        "29,Tom,Finance,5000\n",
        "30,Anna,IT,8000\n",
        "EOF"
      ],
      "metadata": {
        "id": "kUJ3zbkiwW7H"
      },
      "execution_count": 26,
      "outputs": []
    },
    {
      "cell_type": "code",
      "source": [
        "ls /content/empdata/"
      ],
      "metadata": {
        "colab": {
          "base_uri": "https://localhost:8080/"
        },
        "id": "i_eWsiwowccu",
        "outputId": "0ade9e0e-5fa4-44e3-b9ec-6bedc1f9e8b6"
      },
      "execution_count": 27,
      "outputs": [
        {
          "output_type": "stream",
          "name": "stdout",
          "text": [
            "employee_data2.csv  employee_data3.csv  employee_data4.csv  employee_data.csv\n"
          ]
        }
      ]
    },
    {
      "cell_type": "code",
      "source": [
        "query = transformed_df.writeStream \\\n",
        "  .outputMode(\"append\") \\\n",
        "  .format(\"console\") \\\n",
        "  .start()\n"
      ],
      "metadata": {
        "id": "3PWFAYTOweYE"
      },
      "execution_count": 28,
      "outputs": []
    },
    {
      "cell_type": "code",
      "source": [
        "query.awaitTermination(10)\n"
      ],
      "metadata": {
        "colab": {
          "base_uri": "https://localhost:8080/"
        },
        "id": "9d3rXA_Zxdm7",
        "outputId": "16aee24c-e1ad-43e6-c655-592cb0ce7a2c"
      },
      "execution_count": 29,
      "outputs": [
        {
          "output_type": "execute_result",
          "data": {
            "text/plain": [
              "False"
            ]
          },
          "metadata": {},
          "execution_count": 29
        }
      ]
    },
    {
      "cell_type": "code",
      "source": [
        "query.stop()\n"
      ],
      "metadata": {
        "id": "mevDxTvMxfUE"
      },
      "execution_count": 42,
      "outputs": []
    },
    {
      "cell_type": "code",
      "source": [
        "import os, shutil\n",
        "\n",
        "# Clean folder if exists\n",
        "if os.path.exists(\"/content/empdata/employee_data2.csv\"):\n",
        "    shutil.rmtree(\"/content/empdata/employee_data2.csv\")\n",
        "os.makedirs(\"/content/empdata//employee_data2.csv\", exist_ok=True)\n"
      ],
      "metadata": {
        "id": "CQadH1JGxmjl"
      },
      "execution_count": 37,
      "outputs": []
    },
    {
      "cell_type": "code",
      "source": [
        "query = transformed_df.writeStream \\\n",
        "    .outputMode(\"append\") \\\n",
        "    .format(\"console\") \\\n",
        "    .start()\n"
      ],
      "metadata": {
        "id": "tMaC7euwx0IM"
      },
      "execution_count": 38,
      "outputs": []
    },
    {
      "cell_type": "code",
      "source": [
        "query.awaitTermination(15)  # wait 15 seconds for Spark to pick the file\n"
      ],
      "metadata": {
        "colab": {
          "base_uri": "https://localhost:8080/"
        },
        "id": "uznZN7isx1zX",
        "outputId": "c22ffd88-0572-4c7f-e92d-1bb510436d60"
      },
      "execution_count": 39,
      "outputs": [
        {
          "output_type": "execute_result",
          "data": {
            "text/plain": [
              "False"
            ]
          },
          "metadata": {},
          "execution_count": 39
        }
      ]
    },
    {
      "cell_type": "code",
      "source": [
        "query = transformed_df.writeStream \\\n",
        "    .outputMode(\"append\") \\\n",
        "    .format(\"json\") \\\n",
        "    .option(\"path\", \"/tmp/stream_json_output\") \\\n",
        "    .option(\"checkpointLocation\", \"/tmp/stream_checkpoint\") \\\n",
        "    .start()"
      ],
      "metadata": {
        "id": "sorHHnJ3x4qd"
      },
      "execution_count": 43,
      "outputs": []
    },
    {
      "cell_type": "code",
      "source": [
        "import time\n",
        "time.sleep(10) # Wait for the streaming query to write some data\n",
        "df = spark.read.schema(transformed_df.schema).json(\"/tmp/stream_json_output\")\n",
        "df.show()"
      ],
      "metadata": {
        "colab": {
          "base_uri": "https://localhost:8080/"
        },
        "id": "EpsPLw_96OeP",
        "outputId": "8511d827-b202-4d80-fa52-6c53b1cdbb39"
      },
      "execution_count": 47,
      "outputs": [
        {
          "output_type": "stream",
          "name": "stdout",
          "text": [
            "+-----+----+----------+------+---------+\n",
            "|EmpID|Name|Department|Salary|NameUPPER|\n",
            "+-----+----+----------+------+---------+\n",
            "+-----+----+----------+------+---------+\n",
            "\n"
          ]
        }
      ]
    },
    {
      "cell_type": "code",
      "source": [
        "ls /tep/"
      ],
      "metadata": {
        "colab": {
          "base_uri": "https://localhost:8080/"
        },
        "id": "NCtHYhWw7OlE",
        "outputId": "2eb887a0-9260-40d6-86fd-7ac4e2d6fbe7"
      },
      "execution_count": 48,
      "outputs": [
        {
          "output_type": "stream",
          "name": "stdout",
          "text": [
            "ls: cannot access '/tep/': No such file or directory\n"
          ]
        }
      ]
    },
    {
      "cell_type": "code",
      "source": [
        "ls /tmp"
      ],
      "metadata": {
        "colab": {
          "base_uri": "https://localhost:8080/"
        },
        "id": "d0Ezbt6R7jnZ",
        "outputId": "8829fdeb-697e-4220-cbe2-fe4179db04bf"
      },
      "execution_count": 49,
      "outputs": [
        {
          "output_type": "stream",
          "name": "stdout",
          "text": [
            "\u001b[0m\u001b[01;34mblockmgr-6de53b31-6b6f-4ef5-b275-1054aa4f52bb\u001b[0m/\n",
            "\u001b[01;35mcolab_runtime.sock\u001b[0m=\n",
            "dap_multiplexer.6fee3d9b4636.root.log.INFO.20250730-091916.84\n",
            "\u001b[01;36mdap_multiplexer.INFO\u001b[0m@\n",
            "\u001b[01;35mdebugger_24r7hsa7kf\u001b[0m=\n",
            "\u001b[01;34mhsperfdata_root\u001b[0m/\n",
            "\u001b[01;34minitgoogle_syslog_dir.0\u001b[0m/\n",
            "language_service.6fee3d9b4636.root.log.ERROR.20250730-092716.378\n",
            "language_service.6fee3d9b4636.root.log.INFO.20250730-092016.378\n",
            "language_service.6fee3d9b4636.root.log.INFO.20250730-103456.18662\n",
            "language_service.6fee3d9b4636.root.log.WARNING.20250730-092716.378\n",
            "\u001b[01;36mlanguage_service.ERROR\u001b[0m@\n",
            "\u001b[01;36mlanguage_service.INFO\u001b[0m@\n",
            "\u001b[01;36mlanguage_service.WARNING\u001b[0m@\n",
            "liblz4-java-6707959208834418084.so\n",
            "liblz4-java-6707959208834418084.so.lck\n",
            "\u001b[01;34mpyright-18668-3OeLvOrVL94o\u001b[0m/\n",
            "\u001b[01;34mpyright-18668-Io5UCw3UXZwN\u001b[0m/\n",
            "\u001b[01;34mpyright-386-3YZ4ciSdPApK\u001b[0m/\n",
            "\u001b[01;34mpython-languageserver-cancellation\u001b[0m/\n",
            "\u001b[01;34mspark-305d9024-6a48-49c9-a0c7-8c6e72e52394\u001b[0m/\n",
            "\u001b[01;34mspark-bdd5f8b1-044c-44d6-8b23-710e746c581b\u001b[0m/\n",
            "\u001b[01;34mstream_checkpoint\u001b[0m/\n",
            "\u001b[01;34mstream_json_output\u001b[0m/\n",
            "\u001b[01;34mtemporary-8d8581c4-3d9b-4741-998d-cd1471dd26fa\u001b[0m/\n",
            "\u001b[01;34mtemporary-95c3dd53-946d-4ff3-89d8-c3e51784255d\u001b[0m/\n",
            "\u001b[01;34mtemporary-e174db05-e63f-4d92-bb6c-229ac9530f83\u001b[0m/\n"
          ]
        }
      ]
    },
    {
      "cell_type": "code",
      "source": [
        "!ls /tmp/stream_json_output"
      ],
      "metadata": {
        "colab": {
          "base_uri": "https://localhost:8080/"
        },
        "id": "dUaJkI9m7ltJ",
        "outputId": "e8e48da6-a2e4-4ba3-933f-862c430fe03c"
      },
      "execution_count": 50,
      "outputs": [
        {
          "output_type": "stream",
          "name": "stdout",
          "text": [
            "_spark_metadata\n"
          ]
        }
      ]
    },
    {
      "cell_type": "code",
      "source": [
        "cat /tmp/stream_json_output/_spark_metadata/"
      ],
      "metadata": {
        "colab": {
          "base_uri": "https://localhost:8080/"
        },
        "id": "EKN8Zz237rRd",
        "outputId": "501050e2-d4ac-45c3-f783-701df0ea5ad0"
      },
      "execution_count": 51,
      "outputs": [
        {
          "output_type": "stream",
          "name": "stdout",
          "text": [
            "cat: /tmp/stream_json_output/_spark_metadata/: Is a directory\n"
          ]
        }
      ]
    },
    {
      "cell_type": "code",
      "source": [
        "stream_df = spark.readStream \\\n",
        "   .option(\"sep\", \",\") \\\n",
        "   .schema(schema) \\\n",
        "   .csv(\"/content/empdata/\")\n"
      ],
      "metadata": {
        "id": "H3h273k477Tw"
      },
      "execution_count": 52,
      "outputs": []
    },
    {
      "cell_type": "code",
      "source": [
        "import time\n",
        "time.sleep(5)\n"
      ],
      "metadata": {
        "id": "o277b6EY8LQS"
      },
      "execution_count": 53,
      "outputs": []
    },
    {
      "cell_type": "code",
      "source": [
        "%%bash\n",
        "cat <<EOF > /content/empdata/emp1.csv\n",
        "1,John,Sales,3000\n",
        "2,Jane,IT,4000\n",
        "EOF\n"
      ],
      "metadata": {
        "id": "zeNEUoM58NRY"
      },
      "execution_count": 54,
      "outputs": []
    },
    {
      "cell_type": "code",
      "source": [
        "import time\n",
        "time.sleep(5)\n"
      ],
      "metadata": {
        "id": "DxnfUIby8QwQ"
      },
      "execution_count": 55,
      "outputs": []
    },
    {
      "cell_type": "code",
      "source": [
        "from pyspark.sql.types import StructType, StringType, IntegerType\n",
        "\n",
        "schema_out = StructType() \\\n",
        "    .add(\"EmpID\", IntegerType()) \\\n",
        "    .add(\"Name\", StringType()) \\\n",
        "    .add(\"Department\", StringType()) \\\n",
        "    .add(\"Salary\", IntegerType()) \\\n",
        "    .add(\"NameUPPER\", StringType())\n",
        "\n",
        "df = spark.read.schema(schema_out).json(\"/tmp/stream_json_output\")\n",
        "df.show()\n"
      ],
      "metadata": {
        "colab": {
          "base_uri": "https://localhost:8080/"
        },
        "id": "liWb0G6I8S2q",
        "outputId": "ce18d10f-fa96-4a29-8c0a-d81d2a6329fb"
      },
      "execution_count": 56,
      "outputs": [
        {
          "output_type": "stream",
          "name": "stdout",
          "text": [
            "+-----+----+----------+------+---------+\n",
            "|EmpID|Name|Department|Salary|NameUPPER|\n",
            "+-----+----+----------+------+---------+\n",
            "|    1|John|     Sales|  3000|     JOHN|\n",
            "|    2|Jane|        IT|  4000|     JANE|\n",
            "+-----+----+----------+------+---------+\n",
            "\n"
          ]
        }
      ]
    },
    {
      "cell_type": "code",
      "source": [
        "pip install faker\n"
      ],
      "metadata": {
        "colab": {
          "base_uri": "https://localhost:8080/"
        },
        "id": "_JLiiduo8W7J",
        "outputId": "67a3ec78-5f45-44c8-d971-8d95011dcd69"
      },
      "execution_count": 57,
      "outputs": [
        {
          "output_type": "stream",
          "name": "stdout",
          "text": [
            "Collecting faker\n",
            "  Downloading faker-37.4.2-py3-none-any.whl.metadata (15 kB)\n",
            "Requirement already satisfied: tzdata in /usr/local/lib/python3.11/dist-packages (from faker) (2025.2)\n",
            "Downloading faker-37.4.2-py3-none-any.whl (1.9 MB)\n",
            "\u001b[?25l   \u001b[90m━━━━━━━━━━━━━━━━━━━━━━━━━━━━━━━━━━━━━━━━\u001b[0m \u001b[32m0.0/1.9 MB\u001b[0m \u001b[31m?\u001b[0m eta \u001b[36m-:--:--\u001b[0m\r\u001b[2K   \u001b[91m━━━━━━━━━━━━━━━━━━━━━━━━━━━━━━━━━━━━━━━\u001b[0m\u001b[91m╸\u001b[0m \u001b[32m1.9/1.9 MB\u001b[0m \u001b[31m66.6 MB/s\u001b[0m eta \u001b[36m0:00:01\u001b[0m\r\u001b[2K   \u001b[90m━━━━━━━━━━━━━━━━━━━━━━━━━━━━━━━━━━━━━━━━\u001b[0m \u001b[32m1.9/1.9 MB\u001b[0m \u001b[31m34.7 MB/s\u001b[0m eta \u001b[36m0:00:00\u001b[0m\n",
            "\u001b[?25hInstalling collected packages: faker\n",
            "Successfully installed faker-37.4.2\n"
          ]
        }
      ]
    },
    {
      "cell_type": "code",
      "source": [
        "from faker import Faker\n",
        "import random\n",
        "import time\n",
        "import uuid\n",
        "\n",
        "# Create Faker instance\n",
        "fake = Faker()\n",
        "\n",
        "# Output file\n",
        "output_file = \"/content/empdata/random_data.csv\"\n",
        "\n",
        "while True:\n",
        "    emp_id = random.randint(1000, 9999)      # Random Employee ID\n",
        "    name = fake.name()                       # Random Name\n",
        "    department = fake.job()                  # Random Job Title as Department\n",
        "    salary = random.randint(3000, 12000)     # Random Salary\n",
        "    unique_id = uuid.uuid4()                 # Unique ID for no repetition\n",
        "\n",
        "    record = f\"{emp_id},{name},{department},{salary},{unique_id}\\n\"\n",
        "\n",
        "    # Append to file\n",
        "    with open(output_file, \"a\") as f:\n",
        "        f.write(record)\n",
        "\n",
        "    print(\"Generated:\", record.strip())\n",
        "\n",
        "    time.sleep(1)  # Wait 1 second before generating next line\n"
      ],
      "metadata": {
        "colab": {
          "base_uri": "https://localhost:8080/",
          "height": 662
        },
        "id": "RnC3ZU2t-pur",
        "outputId": "99a9cd3d-3d87-46d5-b738-fd8da65a1a0f"
      },
      "execution_count": 59,
      "outputs": [
        {
          "output_type": "stream",
          "name": "stdout",
          "text": [
            "Generated: 1694,Robert Cohen,Aid worker,3507,0a622e19-b9b2-4a33-b618-53504009d33a\n",
            "Generated: 2800,Sean Morgan,Designer, television/film set,5710,fa395b0d-bce6-46bd-88eb-ddf69f35f542\n",
            "Generated: 3511,Colleen Mullins,Meteorologist,7885,1cde45b0-d5b6-492b-8267-46d216ddb138\n",
            "Generated: 6536,Marilyn Hensley,Immigration officer,11839,96cd3128-c4d6-4d8f-a140-f8d2cfd266fd\n",
            "Generated: 5347,Bryan Miller,Chartered accountant,5064,4840673e-cf80-470e-8d24-abeb067168b4\n",
            "Generated: 5799,Erica Terry,Therapist, speech and language,4851,f8cb301c-6b76-4682-98dd-f58777d009f0\n",
            "Generated: 9016,Tammy Smith MD,Biomedical scientist,9702,1752df1d-8daa-4acd-92ca-ad0617db32f1\n",
            "Generated: 2552,Jessica Mejia,Copy,10762,7b70a641-c634-4564-b730-b23cfcae1d9c\n",
            "Generated: 3159,Robert Walker,Computer games developer,8403,fc75e1cf-accc-49d3-87bb-e961737f04cd\n",
            "Generated: 4770,Keith Conley,Land/geomatics surveyor,3738,afdad4a0-841b-4c64-8dd0-9c8702dcb485\n",
            "Generated: 6396,Mary Thomas,Teacher, music,11720,a9e085b9-23d2-46ed-b22f-a50168f256d4\n",
            "Generated: 9668,Sarah Williams,Research officer, political party,6502,8ed5cba8-2580-4b10-bcf2-12d6321097ba\n",
            "Generated: 5030,Cynthia Ray,Engineer, land,11977,f7e248f6-8eec-46ac-9f12-a0686ba42469\n",
            "Generated: 6915,Heather Gonzalez,Forest/woodland manager,5173,22f92dc2-bd9b-4933-949a-b9c26e05c035\n",
            "Generated: 9698,Madison Garrett,Hydrographic surveyor,7022,9074d993-3bbf-473e-930a-e6b657a5f571\n",
            "Generated: 4041,John Summers,Agricultural consultant,5338,03b8561f-15b0-42a4-96e3-7e9080cec400\n",
            "Generated: 1691,Andrew Bryant,Civil Service fast streamer,7177,7f1d97e6-ad2c-4c81-94c6-6d228d13e7e9\n",
            "Generated: 5526,Marcia Perez,Licensed conveyancer,5588,8a8f242d-57b9-4815-90b4-8e170632e7f2\n",
            "Generated: 6244,Kelly Ramsey,Software engineer,4666,8be9f7dd-02bc-49b8-943b-fbc713194cfe\n",
            "Generated: 6878,Austin Johnson,Lawyer,6124,5f3c72d9-b722-4abc-ab5c-a07d5d3977df\n",
            "Generated: 3944,Marcus Herrera,Retail banker,11038,e91113e1-cdd8-4091-bbce-9763211d5f8c\n",
            "Generated: 9452,Gina Phillips,Haematologist,11832,55ca6fbd-2899-45b2-8326-bdb097a6016a\n",
            "Generated: 4244,Donald Lee,Marine scientist,6869,c0cefa53-accf-4cdf-af07-43be0442f27e\n",
            "Generated: 4173,Mark Ramos,Environmental manager,9582,31719b1a-71a2-48f6-909e-b7822011fec0\n",
            "Generated: 9844,Nicholas Brooks,Pension scheme manager,9063,eea434e4-fab6-4670-8762-0ecc13ff2ee5\n",
            "Generated: 2904,Melissa Nguyen,Archivist,6968,39b550a8-4ba6-4929-8507-c67735b91a49\n",
            "Generated: 9553,Frederick Fowler,Public librarian,8311,481a658c-e484-4c01-bf12-303ee02e15dc\n",
            "Generated: 7576,Emily Patterson,Psychologist, sport and exercise,3254,8d034ab1-d572-406c-9136-2d6d2986148a\n"
          ]
        },
        {
          "output_type": "error",
          "ename": "KeyboardInterrupt",
          "evalue": "",
          "traceback": [
            "\u001b[0;31m---------------------------------------------------------------------------\u001b[0m",
            "\u001b[0;31mKeyboardInterrupt\u001b[0m                         Traceback (most recent call last)",
            "\u001b[0;32m/tmp/ipython-input-59-2078904238.py\u001b[0m in \u001b[0;36m<cell line: 0>\u001b[0;34m()\u001b[0m\n\u001b[1;32m     25\u001b[0m     \u001b[0mprint\u001b[0m\u001b[0;34m(\u001b[0m\u001b[0;34m\"Generated:\"\u001b[0m\u001b[0;34m,\u001b[0m \u001b[0mrecord\u001b[0m\u001b[0;34m.\u001b[0m\u001b[0mstrip\u001b[0m\u001b[0;34m(\u001b[0m\u001b[0;34m)\u001b[0m\u001b[0;34m)\u001b[0m\u001b[0;34m\u001b[0m\u001b[0;34m\u001b[0m\u001b[0m\n\u001b[1;32m     26\u001b[0m \u001b[0;34m\u001b[0m\u001b[0m\n\u001b[0;32m---> 27\u001b[0;31m     \u001b[0mtime\u001b[0m\u001b[0;34m.\u001b[0m\u001b[0msleep\u001b[0m\u001b[0;34m(\u001b[0m\u001b[0;36m1\u001b[0m\u001b[0;34m)\u001b[0m  \u001b[0;31m# Wait 1 second before generating next line\u001b[0m\u001b[0;34m\u001b[0m\u001b[0;34m\u001b[0m\u001b[0m\n\u001b[0m",
            "\u001b[0;31mKeyboardInterrupt\u001b[0m: "
          ]
        }
      ]
    },
    {
      "cell_type": "code",
      "source": [
        "from google.colab import drive\n",
        "drive.mount('/content/drive')\n"
      ],
      "metadata": {
        "colab": {
          "base_uri": "https://localhost:8080/"
        },
        "id": "NHCFuOig_2gI",
        "outputId": "e712e2e5-e21d-4bfb-cc0a-f5ac03d455cb"
      },
      "execution_count": 60,
      "outputs": [
        {
          "output_type": "stream",
          "name": "stdout",
          "text": [
            "Mounted at /content/drive\n"
          ]
        }
      ]
    },
    {
      "cell_type": "code",
      "source": [
        "from faker import Faker\n",
        "import random\n",
        "import time\n",
        "import uuid\n",
        "import os\n",
        "\n",
        "# Create Faker instance\n",
        "fake = Faker()\n",
        "\n",
        "# Set the file path inside Google Drive\n",
        "output_dir = \"/content/drive/My Drive/RandomData\"\n",
        "os.makedirs(output_dir, exist_ok=True)\n",
        "\n",
        "output_file = os.path.join(output_dir, \"stream_data.csv\")\n",
        "\n",
        "# Generate random data continuously\n",
        "while True:\n",
        "    emp_id = random.randint(1000, 9999)\n",
        "    name = fake.name()\n",
        "    department = fake.job()\n",
        "    salary = random.randint(3000, 12000)\n",
        "    unique_id = uuid.uuid4()\n",
        "\n",
        "    record = f\"{emp_id},{name},{department},{salary},{unique_id}\\n\"\n",
        "\n",
        "    with open(output_file, \"a\") as f:\n",
        "        f.write(record)\n",
        "\n",
        "    print(\"Generated:\", record.strip())\n",
        "\n",
        "    time.sleep(1)  # 1 second delay\n"
      ],
      "metadata": {
        "colab": {
          "base_uri": "https://localhost:8080/",
          "height": 1000
        },
        "id": "Y1oFgwsgAXvB",
        "outputId": "0c9a9671-44b8-47d1-fdd4-5ff32bb70208"
      },
      "execution_count": 61,
      "outputs": [
        {
          "output_type": "stream",
          "name": "stdout",
          "text": [
            "Generated: 1170,James Marquez,Therapist, speech and language,9904,f6e59a82-a575-47cc-b11b-50b0e5649667\n",
            "Generated: 2114,Cheryl Johnson,Financial controller,4290,d737cc43-4f5f-463b-81c6-17223f54ca7d\n",
            "Generated: 2465,Kara Jones,Conservator, furniture,9236,7b8ccfd7-4802-4aac-8c36-4a9d76a4bb9a\n",
            "Generated: 1916,Michael Morgan,Manufacturing systems engineer,8534,30f9cead-7ff6-4188-a82c-b75661f209bf\n",
            "Generated: 2441,John White,Public house manager,11324,2e9b800b-923a-4e9f-b12a-ee3b75c9f397\n",
            "Generated: 5346,Willie Anderson,Scientist, forensic,3573,deb555a1-764c-4cf4-b642-d5a808b14d4c\n",
            "Generated: 5528,Melissa Davenport,Archivist,11060,e839dd7e-bcbf-47bb-891f-74269d6615d1\n",
            "Generated: 6362,Angela Hamilton,Stage manager,5243,ed931e34-d95a-471d-b44f-84c1b43ac1d7\n",
            "Generated: 2983,Sharon Yang,Equality and diversity officer,7872,1e7d7caf-37ed-47a3-bdc9-da0d983199bd\n",
            "Generated: 4092,Jennifer Lopez,Mechanical engineer,11564,7854b1ec-40c4-419a-8bc5-4d8479da58e0\n",
            "Generated: 6163,Bailey Johnson,Surgeon,9473,b2d41bdf-72d0-488e-a42c-03fd098a7ef2\n",
            "Generated: 9347,Alexander Perry,Teaching laboratory technician,8221,4b5ae9d5-b833-4a4e-855d-dfcbd6770125\n",
            "Generated: 7115,Tracy Cooper,Fish farm manager,5001,8f19287c-2db6-45e1-83f6-aee10d181536\n",
            "Generated: 8272,Shawn Evans,Librarian, public,11651,5554fa4e-ad24-476e-8ffe-e82dd890cfac\n",
            "Generated: 6052,Todd Ballard,Corporate investment banker,3497,fa3f9678-6c97-46c2-b06e-9a374564e180\n",
            "Generated: 1632,Pamela Cox,Information systems manager,11344,611e5999-7f51-45b4-8d8e-27a10fde24b5\n",
            "Generated: 7250,Tracey Allen,Investment banker, operational,6398,57729b09-b33a-4860-ae6d-e51df3d65119\n",
            "Generated: 9551,Anthony Boyd,Mudlogger,8038,abe2b73c-a708-4a05-a794-17a907009a8c\n",
            "Generated: 7489,Richard Mcclain,Public librarian,7629,664dd8d2-d601-4290-9543-ca1a3dd51750\n",
            "Generated: 8650,Joseph Sanchez,Science writer,6934,0810b8d7-d87f-4981-a973-02346a025830\n",
            "Generated: 3195,Aaron Hodge,Physiotherapist,7812,9b7e1a71-ea81-4b36-add2-a6103f340968\n",
            "Generated: 8331,Mary Gordon,Podiatrist,4408,6e1c0973-f9e0-4d97-8a18-9059bccf9116\n",
            "Generated: 2599,Brett Hart,Exhibition designer,6095,bb391701-b7b4-4e1a-b9f5-937718b724fd\n",
            "Generated: 1367,Karen Sanders,Animal nutritionist,10430,32163257-5e88-476c-a432-36167cfd56f2\n",
            "Generated: 9006,Kara Morales,Chemist, analytical,7309,f622e042-cfdb-498f-9971-a154394b218a\n",
            "Generated: 3267,Caleb Adams,Radio producer,6809,7c49e0e0-355a-4a4f-bab4-241854af25d8\n",
            "Generated: 8199,Joe Johnson,Pensions consultant,6448,e84c54be-558d-40f6-afdd-78d0e53ffc49\n",
            "Generated: 8532,Randy Lopez,Conservator, furniture,4238,ad6c52d7-2771-414a-9557-fe591a6a7459\n",
            "Generated: 7062,Jacqueline Fleming,Chartered loss adjuster,7497,89fd07bc-ab5d-43a4-80e4-88a218e6b378\n",
            "Generated: 3741,Robert Hoffman,Land,7554,3b0bc075-4f9a-4f89-a7fe-4eaa06254e5c\n",
            "Generated: 8307,Kimberly Frank,Surveyor, building control,6120,9568f79c-ceec-4ac5-9958-88014d653826\n",
            "Generated: 7608,Kristina Castaneda,Engineer, materials,9519,c476f284-fc59-4c47-b35f-bb4a4b4c6555\n",
            "Generated: 7027,Steven Garner,Teacher, early years/pre,5841,b07abc9e-31a6-4112-888e-3d96543c794a\n",
            "Generated: 6930,April Jefferson,TEFL teacher,8054,331f8094-7f74-4cf3-97aa-31c45fadf5ce\n",
            "Generated: 4186,Jose Jordan,Designer, fashion/clothing,6154,7d61fa8e-56f8-4df3-be2b-9f787494a85a\n",
            "Generated: 8068,Cameron Mccullough,Magazine journalist,6998,8663ac29-10f1-426f-958a-7a96a511c9d2\n",
            "Generated: 8924,Lynn Crane,Civil engineer, consulting,6991,3fa55194-8e11-4e9b-880c-2d5b8294bd3d\n",
            "Generated: 4189,Jessica Cummings,Air broker,9824,cf7f2ec9-957f-49d0-a780-49da1d4ebf3d\n",
            "Generated: 8411,Brian Stout,Paramedic,11292,e8593252-870d-428f-b1c0-be938042f313\n",
            "Generated: 2657,Jenny Walker,Pharmacist, hospital,10265,3e897546-15c0-4706-9784-7471ecb90cc4\n",
            "Generated: 4169,Amber Vasquez,Field seismologist,4005,6aea1a3b-d230-4bb1-84d6-2622068ba3da\n",
            "Generated: 5174,Edward Hill,Pathologist,7306,1f9280b4-0173-4dde-9273-9d310295b0c2\n",
            "Generated: 9962,Nicholas Hale,Educational psychologist,4998,322a8e0c-f516-4e78-ad2c-6f6977e472f7\n",
            "Generated: 5009,Jason Acosta,Lecturer, further education,6998,f14e0a5f-670a-4a21-975a-35e969cd6160\n",
            "Generated: 4304,Alan Silva,Counsellor,5601,0508fa60-43b3-4cda-adf8-8e2d8e5e6e85\n",
            "Generated: 7910,Kimberly Bishop,Insurance risk surveyor,6966,0e2c232b-c315-4dcf-87f6-70141edae87d\n",
            "Generated: 9797,William Martin,Legal executive,11876,439863c1-7b38-4f46-a70f-33a8f912bae5\n",
            "Generated: 4525,Jason Peterson,Lecturer, higher education,7249,7a3987ea-bd5b-4d90-b08c-870f0da38ada\n",
            "Generated: 4215,Elizabeth Koch,Merchant navy officer,8052,24e2aab3-8633-4241-9c97-7986677d4af7\n",
            "Generated: 8669,Billy Bernard,Nurse, learning disability,6205,0c187edf-9ac1-411e-ba0f-3654df1c093d\n",
            "Generated: 8361,Ann Meadows,Garment/textile technologist,11790,6c9a3093-6bc8-4d49-ab03-7fb37263acd2\n",
            "Generated: 7393,Ashley Shannon,Community arts worker,6341,7f2eccb4-3a53-44e2-b865-ed6fa622b4c6\n",
            "Generated: 5999,Emily Frye,Furniture conservator/restorer,4763,279b05f9-26c9-41de-a778-7ec304fb23e3\n",
            "Generated: 5736,Robert Smith,Teacher, music,10898,bf05c163-3f3d-4bef-b1b2-f86bb4e22e0f\n",
            "Generated: 3992,Heidi Roberts,Chief Marketing Officer,9896,47ec7f99-fc15-4e24-b507-95cc83cf779c\n",
            "Generated: 9995,Tracy Valencia,Civil engineer, contracting,6498,33d5102b-2f1a-4471-af7f-ab92aabbeb00\n",
            "Generated: 5046,Michael Adams,Sport and exercise psychologist,3966,e32009da-f02d-49a9-8d83-d9658d27bc03\n",
            "Generated: 3257,Ashley Ray,Best boy,5575,bdc8abe2-513a-4088-a0f4-b753d8e5d865\n",
            "Generated: 1427,Brandy Bradley,Marketing executive,3118,52b40589-991e-4972-a65d-6fcf258ec191\n",
            "Generated: 5819,Amber Wilkins,Plant breeder/geneticist,11470,3081f588-99cc-4255-9fa0-e6264b94a84a\n",
            "Generated: 1073,Kathleen Flores,Sport and exercise psychologist,5533,e1582ce4-27ce-4ec1-92ed-84ebdb0be3ef\n",
            "Generated: 6332,Jennifer Mathews,Scientist, research (physical sciences),6271,a9dba67d-6520-48ab-b41b-c977a0de61fc\n",
            "Generated: 9830,Steven Russell,Human resources officer,11537,2cb7c36d-30f7-4c84-89e8-96724f88faa5\n",
            "Generated: 8089,Karen Rivers,Jewellery designer,5652,e577bd10-6021-48e9-896e-28310ffa62ae\n",
            "Generated: 4212,Lisa Robinson,Photographer,4780,baca1c13-1df8-4709-8ab6-7e0e4042c321\n",
            "Generated: 4151,Amanda Welch,Aeronautical engineer,9161,af18429d-975d-4f10-a43f-95bb8d9adeb9\n",
            "Generated: 1571,Charles Reed,Event organiser,3674,ca03c7f1-f658-440c-984f-1d164d56416d\n",
            "Generated: 3282,George Fernandez,Amenity horticulturist,3332,19d42f3b-574d-4fa1-98a0-0ff2d43bb955\n",
            "Generated: 4722,Linda Lawrence,Immigration officer,5038,8a4b0717-4da0-49bb-bae4-720cd3eb389e\n",
            "Generated: 5865,Norma Pacheco,Wellsite geologist,10170,fdf51698-20bd-4cf4-811f-5e47d121f001\n",
            "Generated: 9679,Miss Brooke Drake,Art gallery manager,4097,187a58c1-b52f-41cc-8089-3d7f73a6b6a8\n",
            "Generated: 1455,Justin Cline,Financial adviser,3957,5b32dbf0-1e8c-44bd-9486-caedebd30dec\n",
            "Generated: 4766,Matthew Hurst,Paramedic,7716,c8db7f31-8e84-42d4-a68a-e4aaed681436\n",
            "Generated: 8729,Kathleen Alvarez,Freight forwarder,4947,87f60e16-235c-4826-8063-61e3b8701340\n",
            "Generated: 7954,Danny Gardner,Agricultural consultant,5598,2bb95b10-6b9f-4bea-9a9d-4d3e123ffe17\n",
            "Generated: 4393,Sarah Arnold,Mining engineer,10364,aed62804-ac74-4ef9-bc21-f8ec1eacbddc\n",
            "Generated: 7220,Brett Kent,Structural engineer,9672,658ecbd0-58d3-4199-90a7-325d5afa6806\n",
            "Generated: 4244,Mitchell Lee,Psychologist, educational,11880,d183d3fd-a35e-4634-9e51-bb4b472c4941\n"
          ]
        },
        {
          "output_type": "error",
          "ename": "KeyboardInterrupt",
          "evalue": "",
          "traceback": [
            "\u001b[0;31m---------------------------------------------------------------------------\u001b[0m",
            "\u001b[0;31mKeyboardInterrupt\u001b[0m                         Traceback (most recent call last)",
            "\u001b[0;32m/tmp/ipython-input-61-24759123.py\u001b[0m in \u001b[0;36m<cell line: 0>\u001b[0;34m()\u001b[0m\n\u001b[1;32m     29\u001b[0m     \u001b[0mprint\u001b[0m\u001b[0;34m(\u001b[0m\u001b[0;34m\"Generated:\"\u001b[0m\u001b[0;34m,\u001b[0m \u001b[0mrecord\u001b[0m\u001b[0;34m.\u001b[0m\u001b[0mstrip\u001b[0m\u001b[0;34m(\u001b[0m\u001b[0;34m)\u001b[0m\u001b[0;34m)\u001b[0m\u001b[0;34m\u001b[0m\u001b[0;34m\u001b[0m\u001b[0m\n\u001b[1;32m     30\u001b[0m \u001b[0;34m\u001b[0m\u001b[0m\n\u001b[0;32m---> 31\u001b[0;31m     \u001b[0mtime\u001b[0m\u001b[0;34m.\u001b[0m\u001b[0msleep\u001b[0m\u001b[0;34m(\u001b[0m\u001b[0;36m1\u001b[0m\u001b[0;34m)\u001b[0m  \u001b[0;31m# 1 second delay\u001b[0m\u001b[0;34m\u001b[0m\u001b[0;34m\u001b[0m\u001b[0m\n\u001b[0m",
            "\u001b[0;31mKeyboardInterrupt\u001b[0m: "
          ]
        }
      ]
    },
    {
      "cell_type": "code",
      "source": [
        "from google.colab import drive\n",
        "drive.mount('/content/drive')"
      ],
      "metadata": {
        "colab": {
          "base_uri": "https://localhost:8080/"
        },
        "id": "FvTWiT2SAkTe",
        "outputId": "c890cf1f-9b44-4e9e-bbb3-31eb221f5358"
      },
      "execution_count": 65,
      "outputs": [
        {
          "output_type": "stream",
          "name": "stdout",
          "text": [
            "Drive already mounted at /content/drive; to attempt to forcibly remount, call drive.mount(\"/content/drive\", force_remount=True).\n"
          ]
        }
      ]
    },
    {
      "cell_type": "code",
      "source": [
        "from faker import Faker\n",
        "import random\n",
        "import uuid\n",
        "import os\n",
        "import time\n",
        "from google.colab import drive\n",
        "\n",
        "# Mount Google Drive\n",
        "drive.mount('/content/drive')\n",
        "\n",
        "# Setup\n",
        "fake = Faker()\n",
        "output_dir = \"/content/drive/My Drive/RandomDataFiles\"\n",
        "os.makedirs(output_dir, exist_ok=True)\n",
        "\n",
        "file_count = 1  # To number files\n",
        "\n",
        "while True:\n",
        "    # Generate 10 random records\n",
        "    records = []\n",
        "    for _ in range(10):\n",
        "        emp_id = random.randint(1000, 9999)\n",
        "        name = fake.name()\n",
        "        department = fake.job()\n",
        "        salary = random.randint(3000, 12000)\n",
        "        unique_id = uuid.uuid4()\n",
        "        record = f\"{emp_id},{name},{department},{salary},{unique_id}\"\n",
        "        records.append(record)\n",
        "\n",
        "    # Save to a new file\n",
        "    file_path = os.path.join(output_dir, f\"data_file_{file_count}.csv\")\n",
        "    with open(file_path, \"w\") as f:\n",
        "        f.write(\"\\n\".join(records))\n",
        "\n",
        "    print(f\"✅ Created: {file_path} with 10 records\")\n",
        "\n",
        "    file_count += 1\n",
        "    time.sleep(5)  # Wait 5 seconds before creating the next file\n"
      ],
      "metadata": {
        "colab": {
          "base_uri": "https://localhost:8080/",
          "height": 1000
        },
        "id": "MfXES8diCK5u",
        "outputId": "4886c90a-fb26-47f5-c248-030f91e150d5"
      },
      "execution_count": 66,
      "outputs": [
        {
          "output_type": "stream",
          "name": "stdout",
          "text": [
            "Drive already mounted at /content/drive; to attempt to forcibly remount, call drive.mount(\"/content/drive\", force_remount=True).\n",
            "✅ Created: /content/drive/My Drive/RandomDataFiles/data_file_1.csv with 10 records\n",
            "✅ Created: /content/drive/My Drive/RandomDataFiles/data_file_2.csv with 10 records\n",
            "✅ Created: /content/drive/My Drive/RandomDataFiles/data_file_3.csv with 10 records\n",
            "✅ Created: /content/drive/My Drive/RandomDataFiles/data_file_4.csv with 10 records\n",
            "✅ Created: /content/drive/My Drive/RandomDataFiles/data_file_5.csv with 10 records\n",
            "✅ Created: /content/drive/My Drive/RandomDataFiles/data_file_6.csv with 10 records\n",
            "✅ Created: /content/drive/My Drive/RandomDataFiles/data_file_7.csv with 10 records\n",
            "✅ Created: /content/drive/My Drive/RandomDataFiles/data_file_8.csv with 10 records\n",
            "✅ Created: /content/drive/My Drive/RandomDataFiles/data_file_9.csv with 10 records\n",
            "✅ Created: /content/drive/My Drive/RandomDataFiles/data_file_10.csv with 10 records\n",
            "✅ Created: /content/drive/My Drive/RandomDataFiles/data_file_11.csv with 10 records\n",
            "✅ Created: /content/drive/My Drive/RandomDataFiles/data_file_12.csv with 10 records\n",
            "✅ Created: /content/drive/My Drive/RandomDataFiles/data_file_13.csv with 10 records\n",
            "✅ Created: /content/drive/My Drive/RandomDataFiles/data_file_14.csv with 10 records\n",
            "✅ Created: /content/drive/My Drive/RandomDataFiles/data_file_15.csv with 10 records\n",
            "✅ Created: /content/drive/My Drive/RandomDataFiles/data_file_16.csv with 10 records\n",
            "✅ Created: /content/drive/My Drive/RandomDataFiles/data_file_17.csv with 10 records\n",
            "✅ Created: /content/drive/My Drive/RandomDataFiles/data_file_18.csv with 10 records\n",
            "✅ Created: /content/drive/My Drive/RandomDataFiles/data_file_19.csv with 10 records\n",
            "✅ Created: /content/drive/My Drive/RandomDataFiles/data_file_20.csv with 10 records\n",
            "✅ Created: /content/drive/My Drive/RandomDataFiles/data_file_21.csv with 10 records\n",
            "✅ Created: /content/drive/My Drive/RandomDataFiles/data_file_22.csv with 10 records\n",
            "✅ Created: /content/drive/My Drive/RandomDataFiles/data_file_23.csv with 10 records\n",
            "✅ Created: /content/drive/My Drive/RandomDataFiles/data_file_24.csv with 10 records\n",
            "✅ Created: /content/drive/My Drive/RandomDataFiles/data_file_25.csv with 10 records\n",
            "✅ Created: /content/drive/My Drive/RandomDataFiles/data_file_26.csv with 10 records\n",
            "✅ Created: /content/drive/My Drive/RandomDataFiles/data_file_27.csv with 10 records\n",
            "✅ Created: /content/drive/My Drive/RandomDataFiles/data_file_28.csv with 10 records\n",
            "✅ Created: /content/drive/My Drive/RandomDataFiles/data_file_29.csv with 10 records\n",
            "✅ Created: /content/drive/My Drive/RandomDataFiles/data_file_30.csv with 10 records\n",
            "✅ Created: /content/drive/My Drive/RandomDataFiles/data_file_31.csv with 10 records\n",
            "✅ Created: /content/drive/My Drive/RandomDataFiles/data_file_32.csv with 10 records\n",
            "✅ Created: /content/drive/My Drive/RandomDataFiles/data_file_33.csv with 10 records\n",
            "✅ Created: /content/drive/My Drive/RandomDataFiles/data_file_34.csv with 10 records\n",
            "✅ Created: /content/drive/My Drive/RandomDataFiles/data_file_35.csv with 10 records\n",
            "✅ Created: /content/drive/My Drive/RandomDataFiles/data_file_36.csv with 10 records\n",
            "✅ Created: /content/drive/My Drive/RandomDataFiles/data_file_37.csv with 10 records\n",
            "✅ Created: /content/drive/My Drive/RandomDataFiles/data_file_38.csv with 10 records\n",
            "✅ Created: /content/drive/My Drive/RandomDataFiles/data_file_39.csv with 10 records\n",
            "✅ Created: /content/drive/My Drive/RandomDataFiles/data_file_40.csv with 10 records\n",
            "✅ Created: /content/drive/My Drive/RandomDataFiles/data_file_41.csv with 10 records\n",
            "✅ Created: /content/drive/My Drive/RandomDataFiles/data_file_42.csv with 10 records\n",
            "✅ Created: /content/drive/My Drive/RandomDataFiles/data_file_43.csv with 10 records\n",
            "✅ Created: /content/drive/My Drive/RandomDataFiles/data_file_44.csv with 10 records\n",
            "✅ Created: /content/drive/My Drive/RandomDataFiles/data_file_45.csv with 10 records\n",
            "✅ Created: /content/drive/My Drive/RandomDataFiles/data_file_46.csv with 10 records\n",
            "✅ Created: /content/drive/My Drive/RandomDataFiles/data_file_47.csv with 10 records\n",
            "✅ Created: /content/drive/My Drive/RandomDataFiles/data_file_48.csv with 10 records\n",
            "✅ Created: /content/drive/My Drive/RandomDataFiles/data_file_49.csv with 10 records\n",
            "✅ Created: /content/drive/My Drive/RandomDataFiles/data_file_50.csv with 10 records\n",
            "✅ Created: /content/drive/My Drive/RandomDataFiles/data_file_51.csv with 10 records\n",
            "✅ Created: /content/drive/My Drive/RandomDataFiles/data_file_52.csv with 10 records\n",
            "✅ Created: /content/drive/My Drive/RandomDataFiles/data_file_53.csv with 10 records\n",
            "✅ Created: /content/drive/My Drive/RandomDataFiles/data_file_54.csv with 10 records\n",
            "✅ Created: /content/drive/My Drive/RandomDataFiles/data_file_55.csv with 10 records\n",
            "✅ Created: /content/drive/My Drive/RandomDataFiles/data_file_56.csv with 10 records\n",
            "✅ Created: /content/drive/My Drive/RandomDataFiles/data_file_57.csv with 10 records\n",
            "✅ Created: /content/drive/My Drive/RandomDataFiles/data_file_58.csv with 10 records\n",
            "✅ Created: /content/drive/My Drive/RandomDataFiles/data_file_59.csv with 10 records\n",
            "✅ Created: /content/drive/My Drive/RandomDataFiles/data_file_60.csv with 10 records\n",
            "✅ Created: /content/drive/My Drive/RandomDataFiles/data_file_61.csv with 10 records\n",
            "✅ Created: /content/drive/My Drive/RandomDataFiles/data_file_62.csv with 10 records\n",
            "✅ Created: /content/drive/My Drive/RandomDataFiles/data_file_63.csv with 10 records\n",
            "✅ Created: /content/drive/My Drive/RandomDataFiles/data_file_64.csv with 10 records\n",
            "✅ Created: /content/drive/My Drive/RandomDataFiles/data_file_65.csv with 10 records\n",
            "✅ Created: /content/drive/My Drive/RandomDataFiles/data_file_66.csv with 10 records\n",
            "✅ Created: /content/drive/My Drive/RandomDataFiles/data_file_67.csv with 10 records\n",
            "✅ Created: /content/drive/My Drive/RandomDataFiles/data_file_68.csv with 10 records\n",
            "✅ Created: /content/drive/My Drive/RandomDataFiles/data_file_69.csv with 10 records\n",
            "✅ Created: /content/drive/My Drive/RandomDataFiles/data_file_70.csv with 10 records\n",
            "✅ Created: /content/drive/My Drive/RandomDataFiles/data_file_71.csv with 10 records\n",
            "✅ Created: /content/drive/My Drive/RandomDataFiles/data_file_72.csv with 10 records\n"
          ]
        },
        {
          "output_type": "error",
          "ename": "KeyboardInterrupt",
          "evalue": "",
          "traceback": [
            "\u001b[0;31m---------------------------------------------------------------------------\u001b[0m",
            "\u001b[0;31mKeyboardInterrupt\u001b[0m                         Traceback (most recent call last)",
            "\u001b[0;32m/tmp/ipython-input-66-2817836041.py\u001b[0m in \u001b[0;36m<cell line: 0>\u001b[0;34m()\u001b[0m\n\u001b[1;32m     36\u001b[0m \u001b[0;34m\u001b[0m\u001b[0m\n\u001b[1;32m     37\u001b[0m     \u001b[0mfile_count\u001b[0m \u001b[0;34m+=\u001b[0m \u001b[0;36m1\u001b[0m\u001b[0;34m\u001b[0m\u001b[0;34m\u001b[0m\u001b[0m\n\u001b[0;32m---> 38\u001b[0;31m     \u001b[0mtime\u001b[0m\u001b[0;34m.\u001b[0m\u001b[0msleep\u001b[0m\u001b[0;34m(\u001b[0m\u001b[0;36m5\u001b[0m\u001b[0;34m)\u001b[0m  \u001b[0;31m# Wait 5 seconds before creating the next file\u001b[0m\u001b[0;34m\u001b[0m\u001b[0;34m\u001b[0m\u001b[0m\n\u001b[0m",
            "\u001b[0;31mKeyboardInterrupt\u001b[0m: "
          ]
        }
      ]
    },
    {
      "cell_type": "code",
      "source": [],
      "metadata": {
        "id": "mKRB-AoICOcE"
      },
      "execution_count": null,
      "outputs": []
    }
  ]
}