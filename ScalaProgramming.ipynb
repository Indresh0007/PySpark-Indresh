{
  "nbformat": 4,
  "nbformat_minor": 0,
  "metadata": {
    "colab": {
      "provenance": [],
      "authorship_tag": "ABX9TyMDjmyEug1jY4MdQQ8RJuU7",
      "include_colab_link": true
    },
    "kernelspec": {
      "name": "python3",
      "display_name": "Python 3"
    },
    "language_info": {
      "name": "python"
    }
  },
  "cells": [
    {
      "cell_type": "markdown",
      "metadata": {
        "id": "view-in-github",
        "colab_type": "text"
      },
      "source": [
        "<a href=\"https://colab.research.google.com/github/Indresh0007/PySpark-Indresh/blob/main/ScalaProgramming.ipynb\" target=\"_parent\"><img src=\"https://colab.research.google.com/assets/colab-badge.svg\" alt=\"Open In Colab\"/></a>"
      ]
    },
    {
      "cell_type": "code",
      "execution_count": 1,
      "metadata": {
        "colab": {
          "base_uri": "https://localhost:8080/"
        },
        "id": "Kdkt1txxomze",
        "outputId": "576d3002-b439-4c4f-f094-f54a11eafb9e"
      },
      "outputs": [
        {
          "output_type": "stream",
          "name": "stdout",
          "text": [
            "PRETTY_NAME=\"Ubuntu 22.04.4 LTS\"\n",
            "NAME=\"Ubuntu\"\n",
            "VERSION_ID=\"22.04\"\n",
            "VERSION=\"22.04.4 LTS (Jammy Jellyfish)\"\n",
            "VERSION_CODENAME=jammy\n",
            "ID=ubuntu\n",
            "ID_LIKE=debian\n",
            "HOME_URL=\"https://www.ubuntu.com/\"\n",
            "SUPPORT_URL=\"https://help.ubuntu.com/\"\n",
            "BUG_REPORT_URL=\"https://bugs.launchpad.net/ubuntu/\"\n",
            "PRIVACY_POLICY_URL=\"https://www.ubuntu.com/legal/terms-and-policies/privacy-policy\"\n",
            "UBUNTU_CODENAME=jammy\n"
          ]
        }
      ],
      "source": [
        "!cat /etc/os-release"
      ]
    },
    {
      "cell_type": "code",
      "source": [
        "!apt update"
      ],
      "metadata": {
        "colab": {
          "base_uri": "https://localhost:8080/"
        },
        "id": "QJqkJG4Vo9Lv",
        "outputId": "3cfdd3f5-24e6-449d-b847-10d6229055fc"
      },
      "execution_count": 2,
      "outputs": [
        {
          "output_type": "stream",
          "name": "stdout",
          "text": [
            "Get:1 https://cloud.r-project.org/bin/linux/ubuntu jammy-cran40/ InRelease [3,632 B]\n",
            "Get:2 http://security.ubuntu.com/ubuntu jammy-security InRelease [129 kB]\n",
            "Hit:3 http://archive.ubuntu.com/ubuntu jammy InRelease\n",
            "Get:4 http://archive.ubuntu.com/ubuntu jammy-updates InRelease [128 kB]\n",
            "Hit:5 https://developer.download.nvidia.com/compute/cuda/repos/ubuntu2204/x86_64  InRelease\n",
            "Get:6 https://r2u.stat.illinois.edu/ubuntu jammy InRelease [6,555 B]\n",
            "Hit:7 https://ppa.launchpadcontent.net/deadsnakes/ppa/ubuntu jammy InRelease\n",
            "Hit:8 https://ppa.launchpadcontent.net/graphics-drivers/ppa/ubuntu jammy InRelease\n",
            "Get:9 https://r2u.stat.illinois.edu/ubuntu jammy/main amd64 Packages [2,772 kB]\n",
            "Get:10 http://security.ubuntu.com/ubuntu jammy-security/main amd64 Packages [3,204 kB]\n",
            "Hit:11 https://ppa.launchpadcontent.net/ubuntugis/ppa/ubuntu jammy InRelease\n",
            "Get:12 http://archive.ubuntu.com/ubuntu jammy-backports InRelease [127 kB]\n",
            "Get:13 http://archive.ubuntu.com/ubuntu jammy-updates/universe amd64 Packages [1,575 kB]\n",
            "Get:14 http://security.ubuntu.com/ubuntu jammy-security/universe amd64 Packages [1,270 kB]\n",
            "Get:15 http://security.ubuntu.com/ubuntu jammy-security/restricted amd64 Packages [5,094 kB]\n",
            "Get:16 http://archive.ubuntu.com/ubuntu jammy-updates/restricted amd64 Packages [5,290 kB]\n",
            "Get:17 http://archive.ubuntu.com/ubuntu jammy-updates/main amd64 Packages [3,519 kB]\n",
            "Get:18 https://r2u.stat.illinois.edu/ubuntu jammy/main all Packages [9,154 kB]\n",
            "Fetched 32.3 MB in 6s (5,866 kB/s)\n",
            "Reading package lists... Done\n",
            "Building dependency tree... Done\n",
            "Reading state information... Done\n",
            "36 packages can be upgraded. Run 'apt list --upgradable' to see them.\n",
            "\u001b[1;33mW: \u001b[0mSkipping acquire of configured file 'main/source/Sources' as repository 'https://r2u.stat.illinois.edu/ubuntu jammy InRelease' does not seem to provide it (sources.list entry misspelt?)\u001b[0m\n"
          ]
        }
      ]
    },
    {
      "cell_type": "code",
      "source": [
        "!apt-get install openjdk-11-jdk-headless -qq > /dev/null"
      ],
      "metadata": {
        "id": "SiuiaHKnpegk"
      },
      "execution_count": 3,
      "outputs": []
    },
    {
      "cell_type": "code",
      "source": [
        "!java -version"
      ],
      "metadata": {
        "colab": {
          "base_uri": "https://localhost:8080/"
        },
        "id": "Ko3XvG1JtqaR",
        "outputId": "4f443921-9384-4660-dcb3-c140f7f081a8"
      },
      "execution_count": 4,
      "outputs": [
        {
          "output_type": "stream",
          "name": "stdout",
          "text": [
            "openjdk version \"11.0.28\" 2025-07-15\n",
            "OpenJDK Runtime Environment (build 11.0.28+6-post-Ubuntu-1ubuntu122.04.1)\n",
            "OpenJDK 64-Bit Server VM (build 11.0.28+6-post-Ubuntu-1ubuntu122.04.1, mixed mode, sharing)\n"
          ]
        }
      ]
    },
    {
      "cell_type": "code",
      "source": [
        "!javac -version"
      ],
      "metadata": {
        "colab": {
          "base_uri": "https://localhost:8080/"
        },
        "id": "VszMKTQ6ttkq",
        "outputId": "0d45b352-d42e-4215-bd1a-b2bb405ba0e9"
      },
      "execution_count": 5,
      "outputs": [
        {
          "output_type": "stream",
          "name": "stdout",
          "text": [
            "javac 11.0.28\n"
          ]
        }
      ]
    },
    {
      "cell_type": "code",
      "source": [
        "!wget -q https://archive.apache.org/dist/spark/spark-3.4.1/spark-3.4.1-bin-hadoop3.tgz"
      ],
      "metadata": {
        "id": "wMIGy6LxtvjR"
      },
      "execution_count": 6,
      "outputs": []
    },
    {
      "cell_type": "code",
      "source": [
        "!tar xf spark-3.4.1-bin-hadoop3.tgz"
      ],
      "metadata": {
        "id": "9iV7co1Bt0yj"
      },
      "execution_count": 7,
      "outputs": []
    },
    {
      "cell_type": "code",
      "source": [
        "!wget -q https://github.com/scala/scala/releases/download/v2.12.18/scala-2.12.18.deb"
      ],
      "metadata": {
        "id": "uTKj7PAnwJX0"
      },
      "execution_count": 8,
      "outputs": []
    },
    {
      "cell_type": "code",
      "source": [
        "!dpkg -i scala-2.12.18.deb!"
      ],
      "metadata": {
        "colab": {
          "base_uri": "https://localhost:8080/"
        },
        "id": "b73TLxJewYU7",
        "outputId": "9657b0c7-e9bd-476a-86b3-5a469ef365e2"
      },
      "execution_count": 10,
      "outputs": [
        {
          "output_type": "stream",
          "name": "stdout",
          "text": [
            "Selecting previously unselected package scala.\n",
            "(Reading database ... 126284 files and directories currently installed.)\n",
            "Preparing to unpack scala-2.12.18.deb ...\n",
            "Unpacking scala (2.12.18-400) ...\n",
            "Setting up scala (2.12.18-400) ...\n",
            "Creating system group: scala\n",
            "Creating system user: scala in scala with scala daemon-user and shell /bin/false\n",
            "Processing triggers for man-db (2.10.2-1) ...\n"
          ]
        }
      ]
    },
    {
      "cell_type": "code",
      "source": [
        "!ls /usr/lib/jvm/java-11-openjdk-amd64\n",
        "!ls /content/spark-3.4.1-bin-hadoop3/\n",
        "!ls /content/scala-2.12.18.deb"
      ],
      "metadata": {
        "colab": {
          "base_uri": "https://localhost:8080/"
        },
        "id": "7W63rPo-wfBi",
        "outputId": "63011350-9b04-42b0-c4c4-f66968860064"
      },
      "execution_count": 15,
      "outputs": [
        {
          "output_type": "stream",
          "name": "stdout",
          "text": [
            "bin  conf  docs  include  jmods  legal\tlib  man  release\n",
            "bin   data\tjars\t    LICENSE   NOTICE  R\t\t RELEASE  yarn\n",
            "conf  examples\tkubernetes  licenses  python  README.md  sbin\n",
            "/content/scala-2.12.18.deb\n"
          ]
        }
      ]
    },
    {
      "cell_type": "code",
      "source": [
        "import os\n",
        "os.environ[\"JAVA_HOME\"] = \"/usr/lib/jvm/java-11-openjdk-amd64\"\n",
        "os.environ[\"SPARK_HOME\"] = \"/content/spark-3.4.1-bin-hadoop3\""
      ],
      "metadata": {
        "id": "d6fg9TUjw4RJ"
      },
      "execution_count": 16,
      "outputs": []
    },
    {
      "cell_type": "code",
      "source": [
        "!echo $JAVA_HOME\n",
        "!echo $SPARK_HOME\n"
      ],
      "metadata": {
        "colab": {
          "base_uri": "https://localhost:8080/"
        },
        "id": "BdRUfjIxz1GA",
        "outputId": "8bfb941d-a09f-4abd-dbe1-35181d1dee2f"
      },
      "execution_count": 17,
      "outputs": [
        {
          "output_type": "stream",
          "name": "stdout",
          "text": [
            "/usr/lib/jvm/java-11-openjdk-amd64\n",
            "/content/spark-3.4.1-bin-hadoop3\n"
          ]
        }
      ]
    },
    {
      "cell_type": "code",
      "source": [
        "!pip install findspark"
      ],
      "metadata": {
        "colab": {
          "base_uri": "https://localhost:8080/"
        },
        "id": "hzSXN618z5g9",
        "outputId": "7c1fbcc8-6da8-4728-b19a-5f28d6b4cbcb"
      },
      "execution_count": 18,
      "outputs": [
        {
          "output_type": "stream",
          "name": "stdout",
          "text": [
            "Collecting findspark\n",
            "  Downloading findspark-2.0.1-py2.py3-none-any.whl.metadata (352 bytes)\n",
            "Downloading findspark-2.0.1-py2.py3-none-any.whl (4.4 kB)\n",
            "Installing collected packages: findspark\n",
            "Successfully installed findspark-2.0.1\n"
          ]
        }
      ]
    },
    {
      "cell_type": "code",
      "source": [
        "import findspark\n",
        "findspark.init()\n",
        "\n",
        "from pyspark.sql import SparkSession\n",
        "spark = SparkSession.builder\\\n",
        "        .appName(\"Colab Scala Spark\")\\\n",
        "        .getOrCreate()\n",
        "spark"
      ],
      "metadata": {
        "colab": {
          "base_uri": "https://localhost:8080/",
          "height": 219
        },
        "id": "LIDXArNp09fe",
        "outputId": "a62a805d-5751-4ee2-c287-678330447d51"
      },
      "execution_count": 20,
      "outputs": [
        {
          "output_type": "execute_result",
          "data": {
            "text/plain": [
              "<pyspark.sql.session.SparkSession at 0x7cbcdae21610>"
            ],
            "text/html": [
              "\n",
              "            <div>\n",
              "                <p><b>SparkSession - in-memory</b></p>\n",
              "                \n",
              "        <div>\n",
              "            <p><b>SparkContext</b></p>\n",
              "\n",
              "            <p><a href=\"http://9168af170668:4040\">Spark UI</a></p>\n",
              "\n",
              "            <dl>\n",
              "              <dt>Version</dt>\n",
              "                <dd><code>v3.4.1</code></dd>\n",
              "              <dt>Master</dt>\n",
              "                <dd><code>local[*]</code></dd>\n",
              "              <dt>AppName</dt>\n",
              "                <dd><code>Colab Scala Spark</code></dd>\n",
              "            </dl>\n",
              "        </div>\n",
              "        \n",
              "            </div>\n",
              "        "
            ]
          },
          "metadata": {},
          "execution_count": 20
        }
      ]
    },
    {
      "cell_type": "code",
      "source": [
        "%%writefile HelloWorld.scala\n",
        "object HelloWorld {\n",
        "    def main(args: Array[String]): Unit = {\n",
        "        println(\"Hello, World!\")\n",
        "    }\n",
        "}\n"
      ],
      "metadata": {
        "colab": {
          "base_uri": "https://localhost:8080/"
        },
        "id": "pmmE4P2W12QW",
        "outputId": "dc07ff24-ae5c-4801-b9d8-5275eac57a45"
      },
      "execution_count": 21,
      "outputs": [
        {
          "output_type": "stream",
          "name": "stdout",
          "text": [
            "Writing HelloWorld.scala\n"
          ]
        }
      ]
    },
    {
      "cell_type": "code",
      "source": [
        "!scalac HelloWorld.scala"
      ],
      "metadata": {
        "id": "aKwSlJWN39Ed"
      },
      "execution_count": 23,
      "outputs": []
    },
    {
      "cell_type": "code",
      "source": [
        "!ls\n"
      ],
      "metadata": {
        "colab": {
          "base_uri": "https://localhost:8080/"
        },
        "id": "TIGOzGNB4BTP",
        "outputId": "75b5e2db-ee97-40e7-9206-658e797a30cf"
      },
      "execution_count": 24,
      "outputs": [
        {
          "output_type": "stream",
          "name": "stdout",
          "text": [
            "'HelloWorld$.class'   sample_data\t        spark-3.4.1-bin-hadoop3.tgz\n",
            " HelloWorld.class     scala-2.12.18.deb\n",
            " HelloWorld.scala     spark-3.4.1-bin-hadoop3\n"
          ]
        }
      ]
    },
    {
      "cell_type": "code",
      "source": [
        "!scala HelloWorld"
      ],
      "metadata": {
        "colab": {
          "base_uri": "https://localhost:8080/"
        },
        "id": "S4ZkioEY4GvZ",
        "outputId": "b65b0d62-8520-45bc-cef0-52be0bd27a57"
      },
      "execution_count": 25,
      "outputs": [
        {
          "output_type": "stream",
          "name": "stdout",
          "text": [
            "Hello, World!\n"
          ]
        }
      ]
    },
    {
      "cell_type": "code",
      "source": [
        "%%writefile CompleteScalaDemo.scala\n",
        "object CompleteScalaDemo {\n",
        "  def main(args: Array[String]): Unit = {\n",
        "  //Step 1:Bascis Syntax and Variable\n",
        "  val language: String = \"Scala\"\n",
        "  var version: Double = 2.12\n",
        "  println(s\"Step 1: Hello, World! This is $language version $version.\")\n",
        "\n",
        "  //Step 2: Control Structures\n",
        "  def checkNumber(n: Int): String = {\n",
        "    if (n > 0) \"Positive\"\n",
        "    else if (n == 0) \"Zero\"\n",
        "    else \"Negative\"\n",
        "  }\n",
        "  println(s\"Step 2: The number is ${checkNumber(10)}.\")\n",
        "}\n",
        "}"
      ],
      "metadata": {
        "colab": {
          "base_uri": "https://localhost:8080/"
        },
        "id": "RXLzo64X4L3e",
        "outputId": "8166a3bd-94bf-4416-9952-42eb7b402493"
      },
      "execution_count": 41,
      "outputs": [
        {
          "output_type": "stream",
          "name": "stdout",
          "text": [
            "Overwriting CompleteScalaDemo.scala\n"
          ]
        }
      ]
    },
    {
      "cell_type": "code",
      "source": [
        "!scalac CompleteScalaDemo.scala"
      ],
      "metadata": {
        "id": "WwAL1Cl-57W_"
      },
      "execution_count": 42,
      "outputs": []
    },
    {
      "cell_type": "code",
      "source": [
        "!scala CompleteScalaDemo"
      ],
      "metadata": {
        "colab": {
          "base_uri": "https://localhost:8080/"
        },
        "id": "8bahHWv45_RR",
        "outputId": "17dd283f-3d4b-4c5f-cc20-770e7a2de7dd"
      },
      "execution_count": 43,
      "outputs": [
        {
          "output_type": "stream",
          "name": "stdout",
          "text": [
            "Step 1: Hello, World! This is Scala version 2.12.\n",
            "Step 2: The number is Positive.\n"
          ]
        }
      ]
    },
    {
      "cell_type": "code",
      "source": [
        "%%writefile LoopDemo.scala\n",
        "object LoopDemo {\n",
        "  def main(args: Array[String]): Unit = {\n",
        "    println(\"Demo: While Loop\")\n",
        "    var i = 1\n",
        "    while (i <= 5) {\n",
        "      println(s\"While Loop iteration: $i\")\n",
        "      i += 1\n",
        "    }\n",
        "\n",
        "    println(\"\\nDemo: Do-While Loop\")\n",
        "    var j = 1\n",
        "    do {\n",
        "      println(s\"Do-While Loop iteration: $j\")\n",
        "      j += 1\n",
        "    } while (j <= 5)\n",
        "\n",
        "    println(\"\\nDemo: For Loop with Range\")\n",
        "    for (k <- 1 to 5) {\n",
        "      println(s\"For Loop iteration: $k\")\n",
        "    }\n",
        "\n",
        "    println(\"\\nDemo: For Loop with Guards (only even numbers)\")\n",
        "    for (k <- 1 to 10 if k % 2 == 0) {\n",
        "      println(s\"Even number: $k\")\n",
        "    }\n",
        "\n",
        "    println(\"\\nDemo: For Loop with yield (creates a collection)\")\n",
        "    val squares = for (k <- 1 to 5) yield k * k\n",
        "    println(s\"Squares from 1 to 5: ${squares.mkString(\", \")}\")\n",
        "  }\n",
        "}"
      ],
      "metadata": {
        "colab": {
          "base_uri": "https://localhost:8080/"
        },
        "id": "oU11HQ7z6B29",
        "outputId": "95c4ba4c-d0c4-464a-d7ba-15e37e0f0b6e"
      },
      "execution_count": 46,
      "outputs": [
        {
          "output_type": "stream",
          "name": "stdout",
          "text": [
            "Writing LoopDemo.scala\n"
          ]
        }
      ]
    },
    {
      "cell_type": "code",
      "source": [
        "!scalac LoopDemo.scala"
      ],
      "metadata": {
        "id": "GymRXO2FLDhR"
      },
      "execution_count": 47,
      "outputs": []
    },
    {
      "cell_type": "code",
      "metadata": {
        "colab": {
          "base_uri": "https://localhost:8080/"
        },
        "id": "58608c63",
        "outputId": "8a8cd46e-3a57-4264-a2a4-3ca1a2d0f7c9"
      },
      "source": [
        "!scala LoopDemo"
      ],
      "execution_count": 48,
      "outputs": [
        {
          "output_type": "stream",
          "name": "stdout",
          "text": [
            "Demo: While Loop\n",
            "While Loop iteration: 1\n",
            "While Loop iteration: 2\n",
            "While Loop iteration: 3\n",
            "While Loop iteration: 4\n",
            "While Loop iteration: 5\n",
            "\n",
            "Demo: Do-While Loop\n",
            "Do-While Loop iteration: 1\n",
            "Do-While Loop iteration: 2\n",
            "Do-While Loop iteration: 3\n",
            "Do-While Loop iteration: 4\n",
            "Do-While Loop iteration: 5\n",
            "\n",
            "Demo: For Loop with Range\n",
            "For Loop iteration: 1\n",
            "For Loop iteration: 2\n",
            "For Loop iteration: 3\n",
            "For Loop iteration: 4\n",
            "For Loop iteration: 5\n",
            "\n",
            "Demo: For Loop with Guards (only even numbers)\n",
            "Even number: 2\n",
            "Even number: 4\n",
            "Even number: 6\n",
            "Even number: 8\n",
            "Even number: 10\n",
            "\n",
            "Demo: For Loop with yield (creates a collection)\n",
            "Squares from 1 to 5: 1, 4, 9, 16, 25\n"
          ]
        }
      ]
    },
    {
      "cell_type": "code",
      "source": [],
      "metadata": {
        "id": "Y0r8NmmwLTTs"
      },
      "execution_count": null,
      "outputs": []
    }
  ]
}